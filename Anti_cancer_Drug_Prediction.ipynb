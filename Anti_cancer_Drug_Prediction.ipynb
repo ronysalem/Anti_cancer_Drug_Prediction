{
  "nbformat": 4,
  "nbformat_minor": 0,
  "metadata": {
    "colab": {
      "provenance": []
    },
    "kernelspec": {
      "name": "python3",
      "display_name": "Python 3"
    },
    "language_info": {
      "name": "python"
    },
    "widgets": {
      "application/vnd.jupyter.widget-state+json": {
        "ef8700b0d4544f0a8a233e93ba73bec0": {
          "model_module": "@jupyter-widgets/controls",
          "model_name": "HBoxModel",
          "model_module_version": "1.5.0",
          "state": {
            "_dom_classes": [],
            "_model_module": "@jupyter-widgets/controls",
            "_model_module_version": "1.5.0",
            "_model_name": "HBoxModel",
            "_view_count": null,
            "_view_module": "@jupyter-widgets/controls",
            "_view_module_version": "1.5.0",
            "_view_name": "HBoxView",
            "box_style": "",
            "children": [
              "IPY_MODEL_e51a6e1f3d104594a95194b2e8145b2f",
              "IPY_MODEL_7968964cd26543aab6360c7819b69b4d",
              "IPY_MODEL_ed4715fa9035459cb16ec628fd09b4e7"
            ],
            "layout": "IPY_MODEL_c63ead48c6724a2ab54d3e861ebd1d7e"
          }
        },
        "e51a6e1f3d104594a95194b2e8145b2f": {
          "model_module": "@jupyter-widgets/controls",
          "model_name": "HTMLModel",
          "model_module_version": "1.5.0",
          "state": {
            "_dom_classes": [],
            "_model_module": "@jupyter-widgets/controls",
            "_model_module_version": "1.5.0",
            "_model_name": "HTMLModel",
            "_view_count": null,
            "_view_module": "@jupyter-widgets/controls",
            "_view_module_version": "1.5.0",
            "_view_name": "HTMLView",
            "description": "",
            "description_tooltip": null,
            "layout": "IPY_MODEL_de8f9bdbab4542dfafad7f81d5941ecf",
            "placeholder": "​",
            "style": "IPY_MODEL_05016c5e7c3d45c090690cfd3e32ef7a",
            "value": "100%"
          }
        },
        "7968964cd26543aab6360c7819b69b4d": {
          "model_module": "@jupyter-widgets/controls",
          "model_name": "FloatProgressModel",
          "model_module_version": "1.5.0",
          "state": {
            "_dom_classes": [],
            "_model_module": "@jupyter-widgets/controls",
            "_model_module_version": "1.5.0",
            "_model_name": "FloatProgressModel",
            "_view_count": null,
            "_view_module": "@jupyter-widgets/controls",
            "_view_module_version": "1.5.0",
            "_view_name": "ProgressView",
            "bar_style": "success",
            "description": "",
            "description_tooltip": null,
            "layout": "IPY_MODEL_af09ae50acd44ec4bf9a28421e85b748",
            "max": 25024,
            "min": 0,
            "orientation": "horizontal",
            "style": "IPY_MODEL_ca97e185c45f4ea7a92861f7febf2d7e",
            "value": 25024
          }
        },
        "ed4715fa9035459cb16ec628fd09b4e7": {
          "model_module": "@jupyter-widgets/controls",
          "model_name": "HTMLModel",
          "model_module_version": "1.5.0",
          "state": {
            "_dom_classes": [],
            "_model_module": "@jupyter-widgets/controls",
            "_model_module_version": "1.5.0",
            "_model_name": "HTMLModel",
            "_view_count": null,
            "_view_module": "@jupyter-widgets/controls",
            "_view_module_version": "1.5.0",
            "_view_name": "HTMLView",
            "description": "",
            "description_tooltip": null,
            "layout": "IPY_MODEL_fd4b5fa9aa0d412d85fabe0f5c6f7f88",
            "placeholder": "​",
            "style": "IPY_MODEL_e14f044a972a4aae98b053c4ba1f8a45",
            "value": " 25024/25024 [00:03&lt;00:00, 6446.34it/s]"
          }
        },
        "c63ead48c6724a2ab54d3e861ebd1d7e": {
          "model_module": "@jupyter-widgets/base",
          "model_name": "LayoutModel",
          "model_module_version": "1.2.0",
          "state": {
            "_model_module": "@jupyter-widgets/base",
            "_model_module_version": "1.2.0",
            "_model_name": "LayoutModel",
            "_view_count": null,
            "_view_module": "@jupyter-widgets/base",
            "_view_module_version": "1.2.0",
            "_view_name": "LayoutView",
            "align_content": null,
            "align_items": null,
            "align_self": null,
            "border": null,
            "bottom": null,
            "display": null,
            "flex": null,
            "flex_flow": null,
            "grid_area": null,
            "grid_auto_columns": null,
            "grid_auto_flow": null,
            "grid_auto_rows": null,
            "grid_column": null,
            "grid_gap": null,
            "grid_row": null,
            "grid_template_areas": null,
            "grid_template_columns": null,
            "grid_template_rows": null,
            "height": null,
            "justify_content": null,
            "justify_items": null,
            "left": null,
            "margin": null,
            "max_height": null,
            "max_width": null,
            "min_height": null,
            "min_width": null,
            "object_fit": null,
            "object_position": null,
            "order": null,
            "overflow": null,
            "overflow_x": null,
            "overflow_y": null,
            "padding": null,
            "right": null,
            "top": null,
            "visibility": null,
            "width": null
          }
        },
        "de8f9bdbab4542dfafad7f81d5941ecf": {
          "model_module": "@jupyter-widgets/base",
          "model_name": "LayoutModel",
          "model_module_version": "1.2.0",
          "state": {
            "_model_module": "@jupyter-widgets/base",
            "_model_module_version": "1.2.0",
            "_model_name": "LayoutModel",
            "_view_count": null,
            "_view_module": "@jupyter-widgets/base",
            "_view_module_version": "1.2.0",
            "_view_name": "LayoutView",
            "align_content": null,
            "align_items": null,
            "align_self": null,
            "border": null,
            "bottom": null,
            "display": null,
            "flex": null,
            "flex_flow": null,
            "grid_area": null,
            "grid_auto_columns": null,
            "grid_auto_flow": null,
            "grid_auto_rows": null,
            "grid_column": null,
            "grid_gap": null,
            "grid_row": null,
            "grid_template_areas": null,
            "grid_template_columns": null,
            "grid_template_rows": null,
            "height": null,
            "justify_content": null,
            "justify_items": null,
            "left": null,
            "margin": null,
            "max_height": null,
            "max_width": null,
            "min_height": null,
            "min_width": null,
            "object_fit": null,
            "object_position": null,
            "order": null,
            "overflow": null,
            "overflow_x": null,
            "overflow_y": null,
            "padding": null,
            "right": null,
            "top": null,
            "visibility": null,
            "width": null
          }
        },
        "05016c5e7c3d45c090690cfd3e32ef7a": {
          "model_module": "@jupyter-widgets/controls",
          "model_name": "DescriptionStyleModel",
          "model_module_version": "1.5.0",
          "state": {
            "_model_module": "@jupyter-widgets/controls",
            "_model_module_version": "1.5.0",
            "_model_name": "DescriptionStyleModel",
            "_view_count": null,
            "_view_module": "@jupyter-widgets/base",
            "_view_module_version": "1.2.0",
            "_view_name": "StyleView",
            "description_width": ""
          }
        },
        "af09ae50acd44ec4bf9a28421e85b748": {
          "model_module": "@jupyter-widgets/base",
          "model_name": "LayoutModel",
          "model_module_version": "1.2.0",
          "state": {
            "_model_module": "@jupyter-widgets/base",
            "_model_module_version": "1.2.0",
            "_model_name": "LayoutModel",
            "_view_count": null,
            "_view_module": "@jupyter-widgets/base",
            "_view_module_version": "1.2.0",
            "_view_name": "LayoutView",
            "align_content": null,
            "align_items": null,
            "align_self": null,
            "border": null,
            "bottom": null,
            "display": null,
            "flex": null,
            "flex_flow": null,
            "grid_area": null,
            "grid_auto_columns": null,
            "grid_auto_flow": null,
            "grid_auto_rows": null,
            "grid_column": null,
            "grid_gap": null,
            "grid_row": null,
            "grid_template_areas": null,
            "grid_template_columns": null,
            "grid_template_rows": null,
            "height": null,
            "justify_content": null,
            "justify_items": null,
            "left": null,
            "margin": null,
            "max_height": null,
            "max_width": null,
            "min_height": null,
            "min_width": null,
            "object_fit": null,
            "object_position": null,
            "order": null,
            "overflow": null,
            "overflow_x": null,
            "overflow_y": null,
            "padding": null,
            "right": null,
            "top": null,
            "visibility": null,
            "width": null
          }
        },
        "ca97e185c45f4ea7a92861f7febf2d7e": {
          "model_module": "@jupyter-widgets/controls",
          "model_name": "ProgressStyleModel",
          "model_module_version": "1.5.0",
          "state": {
            "_model_module": "@jupyter-widgets/controls",
            "_model_module_version": "1.5.0",
            "_model_name": "ProgressStyleModel",
            "_view_count": null,
            "_view_module": "@jupyter-widgets/base",
            "_view_module_version": "1.2.0",
            "_view_name": "StyleView",
            "bar_color": null,
            "description_width": ""
          }
        },
        "fd4b5fa9aa0d412d85fabe0f5c6f7f88": {
          "model_module": "@jupyter-widgets/base",
          "model_name": "LayoutModel",
          "model_module_version": "1.2.0",
          "state": {
            "_model_module": "@jupyter-widgets/base",
            "_model_module_version": "1.2.0",
            "_model_name": "LayoutModel",
            "_view_count": null,
            "_view_module": "@jupyter-widgets/base",
            "_view_module_version": "1.2.0",
            "_view_name": "LayoutView",
            "align_content": null,
            "align_items": null,
            "align_self": null,
            "border": null,
            "bottom": null,
            "display": null,
            "flex": null,
            "flex_flow": null,
            "grid_area": null,
            "grid_auto_columns": null,
            "grid_auto_flow": null,
            "grid_auto_rows": null,
            "grid_column": null,
            "grid_gap": null,
            "grid_row": null,
            "grid_template_areas": null,
            "grid_template_columns": null,
            "grid_template_rows": null,
            "height": null,
            "justify_content": null,
            "justify_items": null,
            "left": null,
            "margin": null,
            "max_height": null,
            "max_width": null,
            "min_height": null,
            "min_width": null,
            "object_fit": null,
            "object_position": null,
            "order": null,
            "overflow": null,
            "overflow_x": null,
            "overflow_y": null,
            "padding": null,
            "right": null,
            "top": null,
            "visibility": null,
            "width": null
          }
        },
        "e14f044a972a4aae98b053c4ba1f8a45": {
          "model_module": "@jupyter-widgets/controls",
          "model_name": "DescriptionStyleModel",
          "model_module_version": "1.5.0",
          "state": {
            "_model_module": "@jupyter-widgets/controls",
            "_model_module_version": "1.5.0",
            "_model_name": "DescriptionStyleModel",
            "_view_count": null,
            "_view_module": "@jupyter-widgets/base",
            "_view_module_version": "1.2.0",
            "_view_name": "StyleView",
            "description_width": ""
          }
        },
        "cb8f733e44dc415399aaaa357e77bfb4": {
          "model_module": "@jupyter-widgets/controls",
          "model_name": "HBoxModel",
          "model_module_version": "1.5.0",
          "state": {
            "_dom_classes": [],
            "_model_module": "@jupyter-widgets/controls",
            "_model_module_version": "1.5.0",
            "_model_name": "HBoxModel",
            "_view_count": null,
            "_view_module": "@jupyter-widgets/controls",
            "_view_module_version": "1.5.0",
            "_view_name": "HBoxView",
            "box_style": "",
            "children": [
              "IPY_MODEL_c07b6794253347eba4a6b2112768adc6",
              "IPY_MODEL_03096b32992d441288fd67af38f7ce9f",
              "IPY_MODEL_5ad4baafeaf7459383f56883ef55df72"
            ],
            "layout": "IPY_MODEL_b391c3f5b9fb4472855238ff46a4f41c"
          }
        },
        "c07b6794253347eba4a6b2112768adc6": {
          "model_module": "@jupyter-widgets/controls",
          "model_name": "HTMLModel",
          "model_module_version": "1.5.0",
          "state": {
            "_dom_classes": [],
            "_model_module": "@jupyter-widgets/controls",
            "_model_module_version": "1.5.0",
            "_model_name": "HTMLModel",
            "_view_count": null,
            "_view_module": "@jupyter-widgets/controls",
            "_view_module_version": "1.5.0",
            "_view_name": "HTMLView",
            "description": "",
            "description_tooltip": null,
            "layout": "IPY_MODEL_5038115df39b47efafcee127e27e5f3d",
            "placeholder": "​",
            "style": "IPY_MODEL_c34aa6693c8a47728dde4aae6600d47a",
            "value": "100%"
          }
        },
        "03096b32992d441288fd67af38f7ce9f": {
          "model_module": "@jupyter-widgets/controls",
          "model_name": "FloatProgressModel",
          "model_module_version": "1.5.0",
          "state": {
            "_dom_classes": [],
            "_model_module": "@jupyter-widgets/controls",
            "_model_module_version": "1.5.0",
            "_model_name": "FloatProgressModel",
            "_view_count": null,
            "_view_module": "@jupyter-widgets/controls",
            "_view_module_version": "1.5.0",
            "_view_name": "ProgressView",
            "bar_style": "success",
            "description": "",
            "description_tooltip": null,
            "layout": "IPY_MODEL_f971f5d6a20a48ae9225e8527537963f",
            "max": 12326,
            "min": 0,
            "orientation": "horizontal",
            "style": "IPY_MODEL_22939e823c4f45db9a0a55baff11129f",
            "value": 12326
          }
        },
        "5ad4baafeaf7459383f56883ef55df72": {
          "model_module": "@jupyter-widgets/controls",
          "model_name": "HTMLModel",
          "model_module_version": "1.5.0",
          "state": {
            "_dom_classes": [],
            "_model_module": "@jupyter-widgets/controls",
            "_model_module_version": "1.5.0",
            "_model_name": "HTMLModel",
            "_view_count": null,
            "_view_module": "@jupyter-widgets/controls",
            "_view_module_version": "1.5.0",
            "_view_name": "HTMLView",
            "description": "",
            "description_tooltip": null,
            "layout": "IPY_MODEL_c4d68c03e54e411db0f350000f0324a0",
            "placeholder": "​",
            "style": "IPY_MODEL_f5e66e50cd87418380766a53a5caa462",
            "value": " 12326/12326 [00:03&lt;00:00, 4408.03it/s]"
          }
        },
        "b391c3f5b9fb4472855238ff46a4f41c": {
          "model_module": "@jupyter-widgets/base",
          "model_name": "LayoutModel",
          "model_module_version": "1.2.0",
          "state": {
            "_model_module": "@jupyter-widgets/base",
            "_model_module_version": "1.2.0",
            "_model_name": "LayoutModel",
            "_view_count": null,
            "_view_module": "@jupyter-widgets/base",
            "_view_module_version": "1.2.0",
            "_view_name": "LayoutView",
            "align_content": null,
            "align_items": null,
            "align_self": null,
            "border": null,
            "bottom": null,
            "display": null,
            "flex": null,
            "flex_flow": null,
            "grid_area": null,
            "grid_auto_columns": null,
            "grid_auto_flow": null,
            "grid_auto_rows": null,
            "grid_column": null,
            "grid_gap": null,
            "grid_row": null,
            "grid_template_areas": null,
            "grid_template_columns": null,
            "grid_template_rows": null,
            "height": null,
            "justify_content": null,
            "justify_items": null,
            "left": null,
            "margin": null,
            "max_height": null,
            "max_width": null,
            "min_height": null,
            "min_width": null,
            "object_fit": null,
            "object_position": null,
            "order": null,
            "overflow": null,
            "overflow_x": null,
            "overflow_y": null,
            "padding": null,
            "right": null,
            "top": null,
            "visibility": null,
            "width": null
          }
        },
        "5038115df39b47efafcee127e27e5f3d": {
          "model_module": "@jupyter-widgets/base",
          "model_name": "LayoutModel",
          "model_module_version": "1.2.0",
          "state": {
            "_model_module": "@jupyter-widgets/base",
            "_model_module_version": "1.2.0",
            "_model_name": "LayoutModel",
            "_view_count": null,
            "_view_module": "@jupyter-widgets/base",
            "_view_module_version": "1.2.0",
            "_view_name": "LayoutView",
            "align_content": null,
            "align_items": null,
            "align_self": null,
            "border": null,
            "bottom": null,
            "display": null,
            "flex": null,
            "flex_flow": null,
            "grid_area": null,
            "grid_auto_columns": null,
            "grid_auto_flow": null,
            "grid_auto_rows": null,
            "grid_column": null,
            "grid_gap": null,
            "grid_row": null,
            "grid_template_areas": null,
            "grid_template_columns": null,
            "grid_template_rows": null,
            "height": null,
            "justify_content": null,
            "justify_items": null,
            "left": null,
            "margin": null,
            "max_height": null,
            "max_width": null,
            "min_height": null,
            "min_width": null,
            "object_fit": null,
            "object_position": null,
            "order": null,
            "overflow": null,
            "overflow_x": null,
            "overflow_y": null,
            "padding": null,
            "right": null,
            "top": null,
            "visibility": null,
            "width": null
          }
        },
        "c34aa6693c8a47728dde4aae6600d47a": {
          "model_module": "@jupyter-widgets/controls",
          "model_name": "DescriptionStyleModel",
          "model_module_version": "1.5.0",
          "state": {
            "_model_module": "@jupyter-widgets/controls",
            "_model_module_version": "1.5.0",
            "_model_name": "DescriptionStyleModel",
            "_view_count": null,
            "_view_module": "@jupyter-widgets/base",
            "_view_module_version": "1.2.0",
            "_view_name": "StyleView",
            "description_width": ""
          }
        },
        "f971f5d6a20a48ae9225e8527537963f": {
          "model_module": "@jupyter-widgets/base",
          "model_name": "LayoutModel",
          "model_module_version": "1.2.0",
          "state": {
            "_model_module": "@jupyter-widgets/base",
            "_model_module_version": "1.2.0",
            "_model_name": "LayoutModel",
            "_view_count": null,
            "_view_module": "@jupyter-widgets/base",
            "_view_module_version": "1.2.0",
            "_view_name": "LayoutView",
            "align_content": null,
            "align_items": null,
            "align_self": null,
            "border": null,
            "bottom": null,
            "display": null,
            "flex": null,
            "flex_flow": null,
            "grid_area": null,
            "grid_auto_columns": null,
            "grid_auto_flow": null,
            "grid_auto_rows": null,
            "grid_column": null,
            "grid_gap": null,
            "grid_row": null,
            "grid_template_areas": null,
            "grid_template_columns": null,
            "grid_template_rows": null,
            "height": null,
            "justify_content": null,
            "justify_items": null,
            "left": null,
            "margin": null,
            "max_height": null,
            "max_width": null,
            "min_height": null,
            "min_width": null,
            "object_fit": null,
            "object_position": null,
            "order": null,
            "overflow": null,
            "overflow_x": null,
            "overflow_y": null,
            "padding": null,
            "right": null,
            "top": null,
            "visibility": null,
            "width": null
          }
        },
        "22939e823c4f45db9a0a55baff11129f": {
          "model_module": "@jupyter-widgets/controls",
          "model_name": "ProgressStyleModel",
          "model_module_version": "1.5.0",
          "state": {
            "_model_module": "@jupyter-widgets/controls",
            "_model_module_version": "1.5.0",
            "_model_name": "ProgressStyleModel",
            "_view_count": null,
            "_view_module": "@jupyter-widgets/base",
            "_view_module_version": "1.2.0",
            "_view_name": "StyleView",
            "bar_color": null,
            "description_width": ""
          }
        },
        "c4d68c03e54e411db0f350000f0324a0": {
          "model_module": "@jupyter-widgets/base",
          "model_name": "LayoutModel",
          "model_module_version": "1.2.0",
          "state": {
            "_model_module": "@jupyter-widgets/base",
            "_model_module_version": "1.2.0",
            "_model_name": "LayoutModel",
            "_view_count": null,
            "_view_module": "@jupyter-widgets/base",
            "_view_module_version": "1.2.0",
            "_view_name": "LayoutView",
            "align_content": null,
            "align_items": null,
            "align_self": null,
            "border": null,
            "bottom": null,
            "display": null,
            "flex": null,
            "flex_flow": null,
            "grid_area": null,
            "grid_auto_columns": null,
            "grid_auto_flow": null,
            "grid_auto_rows": null,
            "grid_column": null,
            "grid_gap": null,
            "grid_row": null,
            "grid_template_areas": null,
            "grid_template_columns": null,
            "grid_template_rows": null,
            "height": null,
            "justify_content": null,
            "justify_items": null,
            "left": null,
            "margin": null,
            "max_height": null,
            "max_width": null,
            "min_height": null,
            "min_width": null,
            "object_fit": null,
            "object_position": null,
            "order": null,
            "overflow": null,
            "overflow_x": null,
            "overflow_y": null,
            "padding": null,
            "right": null,
            "top": null,
            "visibility": null,
            "width": null
          }
        },
        "f5e66e50cd87418380766a53a5caa462": {
          "model_module": "@jupyter-widgets/controls",
          "model_name": "DescriptionStyleModel",
          "model_module_version": "1.5.0",
          "state": {
            "_model_module": "@jupyter-widgets/controls",
            "_model_module_version": "1.5.0",
            "_model_name": "DescriptionStyleModel",
            "_view_count": null,
            "_view_module": "@jupyter-widgets/base",
            "_view_module_version": "1.2.0",
            "_view_name": "StyleView",
            "description_width": ""
          }
        }
      }
    }
  },
  "cells": [
    {
      "cell_type": "markdown",
      "source": [
        "## Problem Formulation\n"
      ],
      "metadata": {
        "id": "AJXd8vd5tXYl"
      }
    },
    {
      "cell_type": "markdown",
      "source": [
        "## What is the input ? \n",
        "* the input data is a graphs that represent chemical compounds \n",
        "* The atoms of the chemical compound representing nodes and bonds as edges\n",
        "\n"
      ],
      "metadata": {
        "id": "rCmW2c5otduK"
      }
    },
    {
      "cell_type": "markdown",
      "source": [
        "## What is the output?\n",
        "* to determine whether the compound is either poistive or negative against non-small cell lung cancer \n",
        "* we have two classification class \n",
        "* 1 for positive class \n",
        "* 0 for negative class"
      ],
      "metadata": {
        "id": "aJmfY922tsX_"
      }
    },
    {
      "cell_type": "markdown",
      "source": [
        "## What data mining function is required?\n",
        "* The data mining in this problem is Classification & Prediction"
      ],
      "metadata": {
        "id": "OPGfZw6ouJpO"
      }
    },
    {
      "cell_type": "markdown",
      "source": [
        "## What could be the challenges?\n",
        "* reading SDF format\n",
        "* soliving the unbalance across the data \n",
        "* extracting important features from data file \n",
        "* using some layers to prevent overfitting."
      ],
      "metadata": {
        "id": "NJvXirvRuUcu"
      }
    },
    {
      "cell_type": "markdown",
      "source": [
        "## What is the impact?\n",
        "* to know whether the Drug will affect the cancer or not "
      ],
      "metadata": {
        "id": "MJ8OKKW_ui32"
      }
    },
    {
      "cell_type": "markdown",
      "source": [
        "## What is an ideal solution?\n",
        "the ideal solution is to clean and preprocess the data before working with it\n",
        "\n",
        "Some of the possible solutions are:\n",
        "\n",
        "* Up-sampling imbalanced data to deal with it\n",
        "*  Before dealing with the text data (that represent the atom name in the chemical compound), preprocess it."
      ],
      "metadata": {
        "id": "tuUwoiSrvJxW"
      }
    },
    {
      "cell_type": "markdown",
      "source": [
        "## What is the experimental protocol used and how was it carried out?\n",
        "The experimental protocol involves loading the data, cleaning and preprocessing it, and then dividing the training dataset into a training_set and a validation_set. The new training_set is used to fit the model, the validation_set is used to measure the model's performance (AUROC), and the original test dataset is used to make the prediction."
      ],
      "metadata": {
        "id": "bd3M8o91wHL1"
      }
    },
    {
      "cell_type": "markdown",
      "source": [
        "## What preprocessing steps are used?\n",
        "* investigate the data and fully understand it\n",
        "* The training data should be adjusted to \"up-sample\" the positive class samples.\n",
        "* processing text data by  :\n",
        "    *    a tokenizer, build a vocabulary from the Training set.\n",
        "    *    the method pad_sequences()\n",
        "*    For each sample in gen_batch, execute prepare_single_batch.\n",
        "\n",
        "\n",
        "\n"
      ],
      "metadata": {
        "id": "2t6NX5kPwR-0"
      }
    },
    {
      "cell_type": "code",
      "source": [
        "## imports\n",
        "import numpy as np \n",
        "import pandas as pd \n",
        "import seaborn as sns \n",
        "import matplotlib.pyplot as plt \n",
        "%matplotlib inline\n",
        "import sklearn\n",
        "from sklearn.model_selection import train_test_split, cross_val_score, KFold\n",
        "\n",
        "from sklearn.metrics import classification_report, confusion_matrix, roc_curve, precision_score, recall_score, f1_score, precision_recall_curve\n",
        "from tqdm.notebook import tqdm\n",
        "import os\n",
        "import math\n",
        "sns.set()\n",
        "\n",
        "from sklearn.pipeline import make_pipeline\n",
        "from sklearn.preprocessing import StandardScaler, LabelEncoder, OneHotEncoder\n",
        "from time import time\n",
        "from sklearn.decomposition import PCA\n",
        "from sklearn.pipeline import Pipeline"
      ],
      "metadata": {
        "id": "9lXiiOZ--5Pk"
      },
      "execution_count": 1,
      "outputs": []
    },
    {
      "cell_type": "code",
      "source": [
        "\n",
        "from sklearn.utils import resample \n",
        "import tensorflow as tf\n",
        "from tensorflow.math import segment_mean\n",
        "from tensorflow import keras\n",
        "from tensorflow.keras import Input, Model\n",
        "from tensorflow.keras.layers import Embedding, Dense\n",
        "from tensorflow.keras.optimizers import Adam"
      ],
      "metadata": {
        "id": "y2WToRB0--wL"
      },
      "execution_count": 2,
      "outputs": []
    },
    {
      "cell_type": "code",
      "source": [
        "\n",
        "from tensorflow.keras.layers import Conv2D, MaxPool2D\n",
        "from tensorflow.keras.layers import Flatten, Dropout\n",
        "from tensorflow.keras.layers import GRU, LSTM, Bidirectional"
      ],
      "metadata": {
        "id": "qWec28sX_ESt"
      },
      "execution_count": 3,
      "outputs": []
    },
    {
      "cell_type": "code",
      "source": [
        "\n",
        "!pip install --quiet tf2_gnn\n",
        "\n",
        "# https://github.com/microsoft/tf2-gnn\n",
        "# https://github.com/microsoft/tf2-gnn/blob/master/tf2_gnn/layers/gnn.py\n",
        "\n",
        "from tf2_gnn.layers.gnn import GNN, GNNInput\n",
        "from tf2_gnn.layers.message_passing import GNN_Edge_MLP, GNN_FiLM"
      ],
      "metadata": {
        "colab": {
          "base_uri": "https://localhost:8080/"
        },
        "id": "FWEDh3Nb_I9S",
        "outputId": "8bb11a51-9f94-4581-8248-bb13425d78b6"
      },
      "execution_count": 4,
      "outputs": [
        {
          "output_type": "stream",
          "name": "stdout",
          "text": [
            "\u001b[?25l     \u001b[90m━━━━━━━━━━━━━━━━━━━━━━━━━━━━━━━━━━━━━━━━\u001b[0m \u001b[32m0.0/54.9 kB\u001b[0m \u001b[31m?\u001b[0m eta \u001b[36m-:--:--\u001b[0m\r\u001b[2K     \u001b[90m━━━━━━━━━━━━━━━━━━━━━━━━━━━━━━━━━━━━━━━━\u001b[0m \u001b[32m54.9/54.9 kB\u001b[0m \u001b[31m1.8 MB/s\u001b[0m eta \u001b[36m0:00:00\u001b[0m\n",
            "\u001b[?25h  Preparing metadata (setup.py) ... \u001b[?25l\u001b[?25hdone\n",
            "\u001b[2K     \u001b[90m━━━━━━━━━━━━━━━━━━━━━━━━━━━━━━━━━━━━━━━━\u001b[0m \u001b[32m73.3/73.3 kB\u001b[0m \u001b[31m3.4 MB/s\u001b[0m eta \u001b[36m0:00:00\u001b[0m\n",
            "\u001b[2K     \u001b[90m━━━━━━━━━━━━━━━━━━━━━━━━━━━━━━━━━━━━━━━━\u001b[0m \u001b[32m1.3/1.3 MB\u001b[0m \u001b[31m10.9 MB/s\u001b[0m eta \u001b[36m0:00:00\u001b[0m\n",
            "\u001b[2K     \u001b[90m━━━━━━━━━━━━━━━━━━━━━━━━━━━━━━━━━━━━━━━\u001b[0m \u001b[32m135.5/135.5 kB\u001b[0m \u001b[31m9.3 MB/s\u001b[0m eta \u001b[36m0:00:00\u001b[0m\n",
            "\u001b[2K     \u001b[90m━━━━━━━━━━━━━━━━━━━━━━━━━━━━━━━━━━━━━━\u001b[0m \u001b[32m388.0/388.0 kB\u001b[0m \u001b[31m11.8 MB/s\u001b[0m eta \u001b[36m0:00:00\u001b[0m\n",
            "\u001b[?25h  Preparing metadata (setup.py) ... \u001b[?25l\u001b[?25hdone\n",
            "\u001b[2K     \u001b[90m━━━━━━━━━━━━━━━━━━━━━━━━━━━━━━━━━━━━━━━\u001b[0m \u001b[32m173.9/173.9 kB\u001b[0m \u001b[31m8.6 MB/s\u001b[0m eta \u001b[36m0:00:00\u001b[0m\n",
            "\u001b[2K     \u001b[90m━━━━━━━━━━━━━━━━━━━━━━━━━━━━━━━━━━━━━━━━\u001b[0m \u001b[32m90.0/90.0 kB\u001b[0m \u001b[31m5.6 MB/s\u001b[0m eta \u001b[36m0:00:00\u001b[0m\n",
            "\u001b[2K     \u001b[90m━━━━━━━━━━━━━━━━━━━━━━━━━━━━━━━━━━━━━━━━\u001b[0m \u001b[32m41.7/41.7 kB\u001b[0m \u001b[31m3.6 MB/s\u001b[0m eta \u001b[36m0:00:00\u001b[0m\n",
            "\u001b[?25h  Building wheel for tf2_gnn (setup.py) ... \u001b[?25l\u001b[?25hdone\n",
            "  Building wheel for docopt (setup.py) ... \u001b[?25l\u001b[?25hdone\n"
          ]
        }
      ]
    },
    {
      "cell_type": "code",
      "source": [
        "import warnings\n",
        "warnings.filterwarnings('ignore')"
      ],
      "metadata": {
        "id": "Ln3rf_ri_Pbs"
      },
      "execution_count": 5,
      "outputs": []
    },
    {
      "cell_type": "code",
      "source": [
        "## adjusting print settings for pandas \n",
        "pd.options.display.max_columns = 100\n",
        "pd.options.display.max_rows = 300\n",
        "pd.options.display.max_colwidth = 100\n",
        "np.set_printoptions(threshold=2000)"
      ],
      "metadata": {
        "id": "Q5vV93WV_tKb"
      },
      "execution_count": 6,
      "outputs": []
    },
    {
      "cell_type": "markdown",
      "source": [
        "## Loading The Data "
      ],
      "metadata": {
        "id": "ytbzEB1d_dk_"
      }
    },
    {
      "cell_type": "code",
      "execution_count": 7,
      "metadata": {
        "id": "2J74EE_j9B-m"
      },
      "outputs": [],
      "source": [
        "from google.colab import drive"
      ]
    },
    {
      "cell_type": "code",
      "source": [
        "#connect to drive\n",
        "drive.mount('/content/drive')"
      ],
      "metadata": {
        "colab": {
          "base_uri": "https://localhost:8080/"
        },
        "id": "FYvExr9P9-BE",
        "outputId": "2ec98bd9-a779-4fd5-ad52-3e8cbec3f9b3"
      },
      "execution_count": 8,
      "outputs": [
        {
          "output_type": "stream",
          "name": "stdout",
          "text": [
            "Mounted at /content/drive\n"
          ]
        }
      ]
    },
    {
      "cell_type": "code",
      "source": [
        "def read_sdf(file):\n",
        "    with open(file, 'r') as rf:\n",
        "        content = rf.read()\n",
        "        #split each sample alone by ($$$$)\n",
        "    samples = content.split('$$$$')\n",
        "    \n",
        "    def parse_sample(s):\n",
        "        lines = s.splitlines()\n",
        "        links = []\n",
        "        nodes = []\n",
        "        label = 0\n",
        "        #if the label : ==1 leave it as it is, if ==-1 make it 0.\n",
        "        for l in lines:\n",
        "            if l.strip() == '1.0':\n",
        "                label = 1\n",
        "            if l.strip() == '-1.0':\n",
        "                label = 0\n",
        "            if l.startswith('    '):\n",
        "                feature = l.split()\n",
        "                node = feature[3]\n",
        "                nodes.append(node)\n",
        "            elif l.startswith(' '):\n",
        "                lnk = l.split()\n",
        "                # edge: (from, to,) (1-based index)\n",
        "                #edge represent link between each two nodes\n",
        "                if int(lnk[0]) - 1 < len(nodes):\n",
        "                    links.append((\n",
        "                        int(lnk[0])-1, \n",
        "                        int(lnk[1])-1, # zero-based index\n",
        "                        # int(lnk[2]) ignore edge weight\n",
        "                    ))\n",
        "        return nodes, np.array(links), label\n",
        "    \n",
        "    return [parse_sample(s) for s in tqdm(samples) if len(s[0]) > 0]"
      ],
      "metadata": {
        "id": "vPbOahN5_kCh"
      },
      "execution_count": 9,
      "outputs": []
    },
    {
      "cell_type": "code",
      "source": [
        "## loading the data\n",
        "train_data = read_sdf(\"/content/drive/MyDrive/Anti-cancer/train.sdf\")\n",
        "test_data = read_sdf(\"/content/drive/MyDrive/Anti-cancer/test_x.sdf\")"
      ],
      "metadata": {
        "colab": {
          "base_uri": "https://localhost:8080/",
          "height": 81,
          "referenced_widgets": [
            "ef8700b0d4544f0a8a233e93ba73bec0",
            "e51a6e1f3d104594a95194b2e8145b2f",
            "7968964cd26543aab6360c7819b69b4d",
            "ed4715fa9035459cb16ec628fd09b4e7",
            "c63ead48c6724a2ab54d3e861ebd1d7e",
            "de8f9bdbab4542dfafad7f81d5941ecf",
            "05016c5e7c3d45c090690cfd3e32ef7a",
            "af09ae50acd44ec4bf9a28421e85b748",
            "ca97e185c45f4ea7a92861f7febf2d7e",
            "fd4b5fa9aa0d412d85fabe0f5c6f7f88",
            "e14f044a972a4aae98b053c4ba1f8a45",
            "cb8f733e44dc415399aaaa357e77bfb4",
            "c07b6794253347eba4a6b2112768adc6",
            "03096b32992d441288fd67af38f7ce9f",
            "5ad4baafeaf7459383f56883ef55df72",
            "b391c3f5b9fb4472855238ff46a4f41c",
            "5038115df39b47efafcee127e27e5f3d",
            "c34aa6693c8a47728dde4aae6600d47a",
            "f971f5d6a20a48ae9225e8527537963f",
            "22939e823c4f45db9a0a55baff11129f",
            "c4d68c03e54e411db0f350000f0324a0",
            "f5e66e50cd87418380766a53a5caa462"
          ]
        },
        "id": "FOxznAWq-BSs",
        "outputId": "b856a809-b29f-40f1-e809-16408886006b"
      },
      "execution_count": 10,
      "outputs": [
        {
          "output_type": "display_data",
          "data": {
            "text/plain": [
              "  0%|          | 0/25024 [00:00<?, ?it/s]"
            ],
            "application/vnd.jupyter.widget-view+json": {
              "version_major": 2,
              "version_minor": 0,
              "model_id": "ef8700b0d4544f0a8a233e93ba73bec0"
            }
          },
          "metadata": {}
        },
        {
          "output_type": "display_data",
          "data": {
            "text/plain": [
              "  0%|          | 0/12326 [00:00<?, ?it/s]"
            ],
            "application/vnd.jupyter.widget-view+json": {
              "version_major": 2,
              "version_minor": 0,
              "model_id": "cb8f733e44dc415399aaaa357e77bfb4"
            }
          },
          "metadata": {}
        }
      ]
    },
    {
      "cell_type": "code",
      "source": [
        "# invistigating the data \n",
        "print(train_data[0])"
      ],
      "metadata": {
        "colab": {
          "base_uri": "https://localhost:8080/"
        },
        "id": "M_Nspre9Ab98",
        "outputId": "d1121780-9332-4daf-ad78-7157d51e3bd8"
      },
      "execution_count": 12,
      "outputs": [
        {
          "output_type": "stream",
          "name": "stdout",
          "text": [
            "(['S', 'O', 'O', 'O', 'O', 'N', 'N', 'N', 'C', 'C', 'C', 'C', 'C', 'C', 'C', 'C', 'C', 'C', 'C', 'C', 'C', 'C', 'C', 'C', 'C'], array([[ 0,  8],\n",
            "       [ 0, 14],\n",
            "       [ 1, 10],\n",
            "       [ 2, 11],\n",
            "       [ 3,  7],\n",
            "       [ 4,  7],\n",
            "       [ 5,  9],\n",
            "       [ 5, 14],\n",
            "       [ 6, 14],\n",
            "       [ 6, 17],\n",
            "       [ 7, 22],\n",
            "       [ 8,  9],\n",
            "       [ 8, 10],\n",
            "       [ 9, 11],\n",
            "       [10, 12],\n",
            "       [11, 13],\n",
            "       [12, 13],\n",
            "       [12, 15],\n",
            "       [13, 16],\n",
            "       [15, 18],\n",
            "       [16, 19],\n",
            "       [17, 20],\n",
            "       [17, 21],\n",
            "       [18, 19],\n",
            "       [20, 23],\n",
            "       [21, 24],\n",
            "       [22, 23],\n",
            "       [22, 24]]), 0)\n"
          ]
        }
      ]
    },
    {
      "cell_type": "markdown",
      "source": [
        "# Data Up-Sampling\n"
      ],
      "metadata": {
        "id": "UFPQEBrCIblW"
      }
    },
    {
      "cell_type": "code",
      "source": [
        "np.unique(np.array(train_data)[:,2],return_counts=True)\n"
      ],
      "metadata": {
        "colab": {
          "base_uri": "https://localhost:8080/"
        },
        "id": "QsyKtGxdIXqV",
        "outputId": "dfc445bb-5d2b-4875-c5ab-6b1b774819aa"
      },
      "execution_count": 13,
      "outputs": [
        {
          "output_type": "execute_result",
          "data": {
            "text/plain": [
              "(array([0, 1], dtype=object), array([23806,  1218]))"
            ]
          },
          "metadata": {},
          "execution_count": 13
        }
      ]
    },
    {
      "cell_type": "code",
      "source": [
        "# converting train into DataFrame\n",
        "train_df = pd.DataFrame(train_data, columns=['node','edge','label']) "
      ],
      "metadata": {
        "id": "omp14dtLIfb9"
      },
      "execution_count": 14,
      "outputs": []
    },
    {
      "cell_type": "code",
      "source": [
        "# print the count of 0,1 in the label column\n",
        "print(train_df['label'].value_counts())"
      ],
      "metadata": {
        "colab": {
          "base_uri": "https://localhost:8080/"
        },
        "id": "mVdo6J8lIr98",
        "outputId": "c1e47f4f-b489-4927-e69c-28a5998e003d"
      },
      "execution_count": 15,
      "outputs": [
        {
          "output_type": "stream",
          "name": "stdout",
          "text": [
            "0    23806\n",
            "1     1218\n",
            "Name: label, dtype: int64\n"
          ]
        }
      ]
    },
    {
      "cell_type": "code",
      "source": [
        "# gettig negative class (label = 0)\n",
        "class_0 = train_df[train_df['label'] == 0]\n",
        "# getting possitive class (label = 1)   \n",
        "class_1 = train_df[train_df['label'] == 1] \n",
        " # resample class_1\n",
        "class_1 = resample(class_1, replace=True, n_samples=len(class_0), random_state=42)\n",
        "# get upsampled data \n",
        "upsampled_data = pd.concat([class_1, class_0])  "
      ],
      "metadata": {
        "id": "jQzXu1DJIvHY"
      },
      "execution_count": 16,
      "outputs": []
    },
    {
      "cell_type": "code",
      "source": [
        "\n",
        "# print the count of 0,1 in the label column after data up-sampling\n",
        "print(upsampled_data[\"label\"].value_counts())"
      ],
      "metadata": {
        "colab": {
          "base_uri": "https://localhost:8080/"
        },
        "id": "z2laeyOQI_np",
        "outputId": "727aa4ed-533b-4c21-9762-98fb18b7d1ad"
      },
      "execution_count": 17,
      "outputs": [
        {
          "output_type": "stream",
          "name": "stdout",
          "text": [
            "1    23806\n",
            "0    23806\n",
            "Name: label, dtype: int64\n"
          ]
        }
      ]
    },
    {
      "cell_type": "code",
      "source": [
        "# convert upsampled_data from DataFrame to an array \n",
        "data_upsampled = upsampled_data.to_numpy()"
      ],
      "metadata": {
        "id": "dwuSTYjyJC6V"
      },
      "execution_count": 18,
      "outputs": []
    },
    {
      "cell_type": "markdown",
      "source": [
        "## splitting the Data"
      ],
      "metadata": {
        "id": "wlDh5YDpJMEg"
      }
    },
    {
      "cell_type": "code",
      "source": [
        "# splitting the upsampled data\n",
        "training_set, validation_set = train_test_split(data_upsampled, test_size=0.2)"
      ],
      "metadata": {
        "id": "Ndet14K5JF5a"
      },
      "execution_count": 19,
      "outputs": []
    },
    {
      "cell_type": "markdown",
      "source": [
        "## Visualizing the data "
      ],
      "metadata": {
        "id": "yjxrrIHBJVHx"
      }
    },
    {
      "cell_type": "code",
      "source": [
        "!pip install --quiet networkx\n",
        "import networkx as nx\n",
        "import matplotlib.pyplot as plt\n",
        "from matplotlib import cm\n",
        "colors = cm.rainbow(np.linspace(0, 1, 50))"
      ],
      "metadata": {
        "id": "RWbN3PDiJTQ_"
      },
      "execution_count": 20,
      "outputs": []
    },
    {
      "cell_type": "code",
      "source": [
        "def visualize(sample):\n",
        "    G=nx.Graph()\n",
        "    nodes = sample[0]\n",
        "    edges = sample[1]\n",
        "    \n",
        "    labeldict={}\n",
        "    node_color=[]\n",
        "    for i,n in enumerate(nodes):\n",
        "        G.add_node(i)\n",
        "        labeldict[i]=n\n",
        "        node_color.append(colors[hash(n)%len(colors)])\n",
        "\n",
        "    # a list of nodes:\n",
        "    for e in edges:\n",
        "        G.add_edge(e[0], e[1])\n",
        "        \n",
        "    nx.draw(G, labels=labeldict, with_labels = True, node_color = node_color)\n",
        "    plt.show()\n",
        "    \n",
        "    return G"
      ],
      "metadata": {
        "id": "MoHHr2G4JZ5Q"
      },
      "execution_count": 21,
      "outputs": []
    },
    {
      "cell_type": "code",
      "source": [
        "plt.clf()\n",
        "visualize(training_set[0])"
      ],
      "metadata": {
        "colab": {
          "base_uri": "https://localhost:8080/",
          "height": 534
        },
        "id": "kyO2bacfJcLV",
        "outputId": "f7b54f7d-dce1-42dc-b932-4672e5d9e7de"
      },
      "execution_count": 22,
      "outputs": [
        {
          "output_type": "display_data",
          "data": {
            "text/plain": [
              "<Figure size 640x480 with 1 Axes>"
            ],
            "image/png": "[encoded data removed]"
          },
          "metadata": {}
        },
        {
          "output_type": "execute_result",
          "data": {
            "text/plain": [
              "<networkx.classes.graph.Graph at 0x7f3f294876d0>"
            ]
          },
          "metadata": {},
          "execution_count": 22
        }
      ]
    },
    {
      "cell_type": "markdown",
      "source": [
        "## Data Preprocessing"
      ],
      "metadata": {
        "id": "XpbkH881Jf4_"
      }
    },
    {
      "cell_type": "code",
      "source": [
        "from tensorflow.keras.preprocessing.text import Tokenizer\n",
        "\n",
        "max_vocab = 500\n",
        "max_len = 100\n",
        "\n",
        "\n",
        "# build vocabulary from training set\n",
        "all_nodes = [s[0] for s in training_set]\n",
        "tokenizer = Tokenizer(num_words=max_vocab)\n",
        "tokenizer.fit_on_texts(all_nodes)"
      ],
      "metadata": {
        "id": "eVx0SxzoJds7"
      },
      "execution_count": 23,
      "outputs": []
    },
    {
      "cell_type": "code",
      "source": [
        "from tensorflow.keras.preprocessing.sequence import pad_sequences\n",
        "import random\n",
        "random.seed(0)\n",
        "\n",
        "def prepare_single_batch(samples):\n",
        "    sample_nodes = [s[0] for s in samples]\n",
        "    sample_nodes = tokenizer.texts_to_sequences(sample_nodes)\n",
        "    sample_nodes = pad_sequences(sample_nodes, padding='post')\n",
        "    max_nodes_len = np.shape(sample_nodes)[1]\n",
        "    edges = [s[1]+i*max_nodes_len for i,s in enumerate(samples)]\n",
        "    edges = [e for e in edges if len(e) > 0]\n",
        "    node_to_graph = [[i]*max_nodes_len for i in range(len(samples))]\n",
        "    \n",
        "    all_nodes = np.reshape(sample_nodes, -1)\n",
        "    all_edges = np.concatenate(edges)\n",
        "\n",
        "    node_to_graph = np.reshape(node_to_graph, -1)\n",
        "    return {\n",
        "        'data': all_nodes,\n",
        "        'edges': all_edges,\n",
        "        'node2grah': node_to_graph,\n",
        "    }, np.array([s[2] for s in samples])"
      ],
      "metadata": {
        "id": "6nasSJr6Jmjq"
      },
      "execution_count": 24,
      "outputs": []
    },
    {
      "cell_type": "code",
      "source": [
        "def gen_batch(dataset, batch_size=16, repeat=False, shuffle=True):\n",
        "    while True:\n",
        "        dataset = list(dataset)\n",
        "        if shuffle:\n",
        "            random.shuffle(dataset)\n",
        "        l = len(dataset)\n",
        "        for ndx in range(0, l, batch_size):\n",
        "            batch_samples = dataset[ndx:min(ndx + batch_size, l)]\n",
        "            yield prepare_single_batch(batch_samples)\n",
        "        if not repeat:\n",
        "            break"
      ],
      "metadata": {
        "id": "w5q6n2U3Jqup"
      },
      "execution_count": 25,
      "outputs": []
    },
    {
      "cell_type": "code",
      "source": [
        "# showing one batch:\n",
        "for train_batch in gen_batch(training_set, batch_size=4):\n",
        "    for k,v in train_batch[0].items():\n",
        "        print(k)\n",
        "        print(v)\n",
        "        pass\n",
        "    print('label', train_batch[1])\n",
        "    break\n",
        "     "
      ],
      "metadata": {
        "colab": {
          "base_uri": "https://localhost:8080/"
        },
        "id": "VXXtPwR1J2X5",
        "outputId": "98ed81d2-3db9-4a6d-96d8-bd8cfa7325b1"
      },
      "execution_count": 26,
      "outputs": [
        {
          "output_type": "stream",
          "name": "stdout",
          "text": [
            "data\n",
            "[5 2 2 2 3 3 3 3 3 3 3 1 1 1 1 1 1 1 1 1 1 1 1 1 1 1 1 1 1 1 1 1 1 1 1 1 1\n",
            " 1 1 1 1 1 1 1 1 1 0 0 0 0 0 0 0 0 0 0 2 2 2 2 2 2 2 2 1 1 1 1 1 1 1 1 1 1\n",
            " 1 1 1 1 1 1 1 1 1 1 1 1 1 1 1 1 1 1 1 1 1 1 0 0 0 0 0 0 0 0 0 0 0 0 0 0 0\n",
            " 0 5 2 2 2 2 3 3 3 3 3 1 1 1 1 1 1 1 1 1 1 1 1 1 1 1 1 1 0 0 0 0 0 0 0 0 0\n",
            " 0 0 0 0 0 0 0 0 0 0 0 0 0 0 0 0 0 0 0 0 2 2 2 2 2 2 2 2 2 2 2 2 2 2 1 1 1\n",
            " 1 1 1 1 1 1 1 1 1 1 1 1 1 1 1 1 1 1 1 1 1 1 1 1 1 1 1 1 1 1 1 1 1 1 1 1 1\n",
            " 1 1]\n",
            "edges\n",
            "[[  0  22]\n",
            " [  1  13]\n",
            " [  2  15]\n",
            " [  3  38]\n",
            " [  3  45]\n",
            " [  4   5]\n",
            " [  4  15]\n",
            " [  5  16]\n",
            " [  6  21]\n",
            " [  6  31]\n",
            " [  6  32]\n",
            " [  7   8]\n",
            " [  7  16]\n",
            " [  8  30]\n",
            " [  9  43]\n",
            " [ 10  44]\n",
            " [ 11  12]\n",
            " [ 11  13]\n",
            " [ 11  20]\n",
            " [ 12  15]\n",
            " [ 12  18]\n",
            " [ 13  19]\n",
            " [ 14  16]\n",
            " [ 14  17]\n",
            " [ 14  24]\n",
            " [ 17  23]\n",
            " [ 17  29]\n",
            " [ 18  22]\n",
            " [ 19  27]\n",
            " [ 19  28]\n",
            " [ 20  25]\n",
            " [ 21  23]\n",
            " [ 21  26]\n",
            " [ 22  25]\n",
            " [ 24  26]\n",
            " [ 27  33]\n",
            " [ 28  34]\n",
            " [ 30  36]\n",
            " [ 30  37]\n",
            " [ 31  39]\n",
            " [ 32  40]\n",
            " [ 33  35]\n",
            " [ 34  35]\n",
            " [ 36  41]\n",
            " [ 37  42]\n",
            " [ 38  41]\n",
            " [ 38  42]\n",
            " [ 39  43]\n",
            " [ 40  44]\n",
            " [ 56  70]\n",
            " [ 71  57]\n",
            " [ 74  58]\n",
            " [ 59  83]\n",
            " [ 60  84]\n",
            " [ 85  61]\n",
            " [ 62  91]\n",
            " [ 62  94]\n",
            " [ 63  94]\n",
            " [ 64  65]\n",
            " [ 64  66]\n",
            " [ 64  72]\n",
            " [ 64  77]\n",
            " [ 65  67]\n",
            " [ 65  76]\n",
            " [ 66  68]\n",
            " [ 66  73]\n",
            " [ 66  79]\n",
            " [ 67  69]\n",
            " [ 67  70]\n",
            " [ 67  82]\n",
            " [ 68  71]\n",
            " [ 68  74]\n",
            " [ 69  75]\n",
            " [ 69  81]\n",
            " [ 70  73]\n",
            " [ 71  72]\n",
            " [ 74  83]\n",
            " [ 74  86]\n",
            " [ 75  78]\n",
            " [ 75  80]\n",
            " [ 76  80]\n",
            " [ 78  84]\n",
            " [ 78  87]\n",
            " [ 78  88]\n",
            " [ 81  85]\n",
            " [ 83  89]\n",
            " [ 84  85]\n",
            " [ 89  90]\n",
            " [ 90  91]\n",
            " [ 91  92]\n",
            " [ 91  93]\n",
            " [ 94  95]\n",
            " [112 136]\n",
            " [113 124]\n",
            " [114 127]\n",
            " [115 129]\n",
            " [116 130]\n",
            " [117 123]\n",
            " [117 127]\n",
            " [118 124]\n",
            " [118 126]\n",
            " [119 125]\n",
            " [119 127]\n",
            " [120 121]\n",
            " [120 123]\n",
            " [121 132]\n",
            " [122 123]\n",
            " [122 124]\n",
            " [122 125]\n",
            " [125 128]\n",
            " [126 129]\n",
            " [126 130]\n",
            " [126 131]\n",
            " [132 133]\n",
            " [133 134]\n",
            " [133 135]\n",
            " [134 137]\n",
            " [135 138]\n",
            " [136 137]\n",
            " [136 138]\n",
            " [200 168]\n",
            " [168 208]\n",
            " [169 202]\n",
            " [170 208]\n",
            " [170 213]\n",
            " [171 209]\n",
            " [172 210]\n",
            " [173 211]\n",
            " [174 212]\n",
            " [175 214]\n",
            " [176 217]\n",
            " [176 218]\n",
            " [177 218]\n",
            " [177 221]\n",
            " [178 219]\n",
            " [179 220]\n",
            " [180 222]\n",
            " [181 223]\n",
            " [182 183]\n",
            " [182 184]\n",
            " [182 189]\n",
            " [182 197]\n",
            " [183 185]\n",
            " [183 191]\n",
            " [183 199]\n",
            " [184 186]\n",
            " [184 192]\n",
            " [185 190]\n",
            " [185 194]\n",
            " [186 187]\n",
            " [186 195]\n",
            " [187 188]\n",
            " [187 198]\n",
            " [187 201]\n",
            " [188 193]\n",
            " [188 196]\n",
            " [189 194]\n",
            " [190 202]\n",
            " [190 204]\n",
            " [191 195]\n",
            " [192 196]\n",
            " [193 200]\n",
            " [193 205]\n",
            " [193 206]\n",
            " [198 203]\n",
            " [200 203]\n",
            " [202 207]\n",
            " [207 209]\n",
            " [208 210]\n",
            " [209 211]\n",
            " [210 212]\n",
            " [211 215]\n",
            " [211 216]\n",
            " [212 214]\n",
            " [213 214]\n",
            " [213 217]\n",
            " [218 219]\n",
            " [219 220]\n",
            " [220 222]\n",
            " [221 222]\n",
            " [221 223]]\n",
            "node2grah\n",
            "[0 0 0 0 0 0 0 0 0 0 0 0 0 0 0 0 0 0 0 0 0 0 0 0 0 0 0 0 0 0 0 0 0 0 0 0 0\n",
            " 0 0 0 0 0 0 0 0 0 0 0 0 0 0 0 0 0 0 0 1 1 1 1 1 1 1 1 1 1 1 1 1 1 1 1 1 1\n",
            " 1 1 1 1 1 1 1 1 1 1 1 1 1 1 1 1 1 1 1 1 1 1 1 1 1 1 1 1 1 1 1 1 1 1 1 1 1\n",
            " 1 2 2 2 2 2 2 2 2 2 2 2 2 2 2 2 2 2 2 2 2 2 2 2 2 2 2 2 2 2 2 2 2 2 2 2 2\n",
            " 2 2 2 2 2 2 2 2 2 2 2 2 2 2 2 2 2 2 2 2 3 3 3 3 3 3 3 3 3 3 3 3 3 3 3 3 3\n",
            " 3 3 3 3 3 3 3 3 3 3 3 3 3 3 3 3 3 3 3 3 3 3 3 3 3 3 3 3 3 3 3 3 3 3 3 3 3\n",
            " 3 3]\n",
            "label [0 1 0 0]\n"
          ]
        }
      ]
    },
    {
      "cell_type": "markdown",
      "source": [
        "## Function to save the Predictions"
      ],
      "metadata": {
        "id": "wSdDUeiTKB1b"
      }
    },
    {
      "cell_type": "code",
      "source": [
        "#  function to save the csv results\n",
        "def saveResult(y_pred, fileName):\n",
        "  submission = pd.DataFrame({'label': y_pred})\n",
        "  submission.index.name = 'id'\n",
        "  \n",
        "  submission.to_csv(fileName)"
      ],
      "metadata": {
        "id": "VHtUc44TJ4yf"
      },
      "execution_count": 27,
      "outputs": []
    },
    {
      "cell_type": "markdown",
      "source": [
        "# The Trails"
      ],
      "metadata": {
        "id": "9T_BVOKpKS-b"
      }
    },
    {
      "cell_type": "markdown",
      "source": [
        "## Trial_1\n",
        "* Model : GNN \n",
        "* data : Not upsampled\n",
        "* Hidden_dim : 32\n",
        "* Batch_size : 16\n",
        "* epochs : 10"
      ],
      "metadata": {
        "id": "RI9k-tgtKZik"
      }
    },
    {
      "cell_type": "markdown",
      "source": [
        "# Model"
      ],
      "metadata": {
        "id": "TdPehlZvOeHd"
      }
    },
    {
      "cell_type": "code",
      "source": [
        "\n",
        "data = keras.Input(batch_shape=(None,)) #Input layer for nodes (tokenized text data) \n",
        "\n",
        "# the first dim is different to the previous one. it is the total number of edges in this batch\n",
        "edge = keras.Input(batch_shape=(None, 2), dtype=tf.int32)\n",
        "node2graph = keras.Input(batch_shape=(None,), dtype=tf.int32)\n",
        "embeded = Embedding(tokenizer.num_words, 20)(data)\n",
        "\n",
        "# number of graphs (number of samples)\n",
        "num_graph = tf.reduce_max(node2graph)+1\n",
        "\n",
        "# declare the GNNInput that take the features of node, the edge, the created list 'node2graph', and number of graphs (number of samples)\n",
        "gnn_input = GNNInput(\n",
        "    node_features = embeded,\n",
        "    adjacency_lists = (edge,),\n",
        "    node_to_graph_map = node2graph, \n",
        "    num_graphs = num_graph,\n",
        ")\n",
        "\n",
        "\n",
        "# configure the hyperparameters of GNN layers\n",
        "# https://github.com/microsoft/tf2-gnn/blob/master/tf2_gnn/layers/gnn.py\n",
        "# \n",
        "# frist load the defualt hyperparameters\n",
        "params = GNN.get_default_hyperparameters()\n",
        "# sets the size of the output of all message passing layers\n",
        "params[\"hidden_dim\"] = 32\n",
        "\n",
        "# Graph Neural Network layer with defined hyperparameters\n",
        "gnn_layer = GNN(params)\n",
        "gnn_out = gnn_layer(gnn_input)\n",
        "\n",
        "print('gnn_out', gnn_out)\n",
        "\n",
        "\n",
        "# Computes the mean along segments of a tensor\n",
        "# https://www.tensorflow.org/api_docs/python/tf/math/segment_mean\n",
        "avg = segment_mean(\n",
        "    data = gnn_out,\n",
        "    segment_ids = node2graph\n",
        ")\n",
        "print('mean:', avg)\n",
        "\n",
        "# Define the out put layer of the model\n",
        "pred = Dense(1, activation='sigmoid')(avg)\n",
        "print('pred:', pred)\n",
        "\n",
        "\n",
        "# Creating the model\n",
        "model = Model(\n",
        "    inputs = {\n",
        "        'data': data,\n",
        "        'edges': edge,\n",
        "        'node2grah': node2graph,\n",
        "    },\n",
        "    outputs = pred\n",
        ")\n",
        "# printing summary of the model\n",
        "model.summary()"
      ],
      "metadata": {
        "colab": {
          "base_uri": "https://localhost:8080/"
        },
        "id": "EvxIJwaRKLdy",
        "outputId": "fabb1ecd-b629-40f3-8312-699fe39fa744"
      },
      "execution_count": null,
      "outputs": [
        {
          "output_type": "stream",
          "name": "stdout",
          "text": [
            "gnn_out KerasTensor(type_spec=TensorSpec(shape=(None, 32), dtype=tf.float32, name=None), name='gnn/StatefulPartitionedCall:0', description=\"created by layer 'gnn'\")\n",
            "mean: KerasTensor(type_spec=TensorSpec(shape=(None, 32), dtype=tf.float32, name=None), name='tf.math.segment_mean/SegmentMean:0', description=\"created by layer 'tf.math.segment_mean'\")\n",
            "pred: KerasTensor(type_spec=TensorSpec(shape=(None, 1), dtype=tf.float32, name=None), name='dense/Sigmoid:0', description=\"created by layer 'dense'\")\n",
            "Model: \"model\"\n",
            "__________________________________________________________________________________________________\n",
            " Layer (type)                   Output Shape         Param #     Connected to                     \n",
            "==================================================================================================\n",
            " input_3 (InputLayer)           [(None,)]            0           []                               \n",
            "                                                                                                  \n",
            " input_1 (InputLayer)           [(None,)]            0           []                               \n",
            "                                                                                                  \n",
            " tf.math.reduce_max (TFOpLambda  ()                  0           ['input_3[0][0]']                \n",
            " )                                                                                                \n",
            "                                                                                                  \n",
            " embedding (Embedding)          (None, 20)           10000       ['input_1[0][0]']                \n",
            "                                                                                                  \n",
            " input_2 (InputLayer)           [(None, 2)]          0           []                               \n",
            "                                                                                                  \n",
            " tf.__operators__.add (TFOpLamb  ()                  0           ['tf.math.reduce_max[0][0]']     \n",
            " da)                                                                                              \n",
            "                                                                                                  \n",
            " gnn (GNN)                      (None, 32)           22464       ['embedding[0][0]',              \n",
            "                                                                  'input_2[0][0]',                \n",
            "                                                                  'input_3[0][0]',                \n",
            "                                                                  'tf.__operators__.add[0][0]']   \n",
            "                                                                                                  \n",
            " tf.math.segment_mean (TFOpLamb  (None, 32)          0           ['gnn[0][0]',                    \n",
            " da)                                                              'input_3[0][0]']                \n",
            "                                                                                                  \n",
            " dense (Dense)                  (None, 1)            33          ['tf.math.segment_mean[0][0]']   \n",
            "                                                                                                  \n",
            "==================================================================================================\n",
            "Total params: 32,497\n",
            "Trainable params: 32,497\n",
            "Non-trainable params: 0\n",
            "__________________________________________________________________________________________________\n"
          ]
        }
      ]
    },
    {
      "cell_type": "code",
      "source": [
        "## compiling the model\n",
        "model.compile(\n",
        "    loss='BinaryCrossentropy',\n",
        "    metrics=['AUC']\n",
        ")"
      ],
      "metadata": {
        "id": "-hSEYLrSOh3M"
      },
      "execution_count": null,
      "outputs": []
    },
    {
      "cell_type": "markdown",
      "source": [
        "# Model Fitting"
      ],
      "metadata": {
        "id": "qb7HVhqtOqTL"
      }
    },
    {
      "cell_type": "code",
      "source": [
        "batch_size = 16\n",
        "\n",
        "# calculate steps_per_epoch for training and validation data\n",
        "num_batchs = math.ceil(len(training_set) / batch_size)\n",
        "num_batchs_validation = math.ceil(len(validation_set) / batch_size)\n",
        "\n",
        "model.fit(\n",
        "    gen_batch(\n",
        "        training_set, batch_size=batch_size, repeat=True\n",
        "    ),\n",
        "    steps_per_epoch = num_batchs,\n",
        "    epochs = 10,\n",
        "    validation_data = gen_batch(\n",
        "        validation_set, batch_size=16, repeat=True\n",
        "    ),\n",
        "    validation_steps = num_batchs_validation,\n",
        ")\n"
      ],
      "metadata": {
        "colab": {
          "base_uri": "https://localhost:8080/"
        },
        "id": "5KkD4VVlOnj-",
        "outputId": "fcec7ff2-a771-43bf-c799-b78a9733a42c"
      },
      "execution_count": null,
      "outputs": [
        {
          "output_type": "stream",
          "name": "stdout",
          "text": [
            "Epoch 1/10\n",
            "2381/2381 [==============================] - 60s 24ms/step - loss: 0.6414 - auc: 0.6792 - val_loss: 0.6139 - val_auc: 0.7264\n",
            "Epoch 2/10\n",
            "2381/2381 [==============================] - 82s 34ms/step - loss: 0.5959 - auc: 0.7443 - val_loss: 0.5841 - val_auc: 0.7625\n",
            "Epoch 3/10\n",
            "2381/2381 [==============================] - 56s 23ms/step - loss: 0.5778 - auc: 0.7651 - val_loss: 0.5701 - val_auc: 0.7789\n",
            "Epoch 4/10\n",
            "2381/2381 [==============================] - 56s 24ms/step - loss: 0.5633 - auc: 0.7822 - val_loss: 0.5614 - val_auc: 0.7952\n",
            "Epoch 5/10\n",
            "2381/2381 [==============================] - 56s 23ms/step - loss: 0.5435 - auc: 0.8014 - val_loss: 0.5351 - val_auc: 0.8127\n",
            "Epoch 6/10\n",
            "2381/2381 [==============================] - 53s 22ms/step - loss: 0.5325 - auc: 0.8122 - val_loss: 0.5364 - val_auc: 0.8178\n",
            "Epoch 7/10\n",
            "2381/2381 [==============================] - 56s 24ms/step - loss: 0.5184 - auc: 0.8236 - val_loss: 0.5201 - val_auc: 0.8291\n",
            "Epoch 8/10\n",
            "2381/2381 [==============================] - 54s 23ms/step - loss: 0.5099 - auc: 0.8308 - val_loss: 0.4994 - val_auc: 0.8400\n",
            "Epoch 9/10\n",
            "2381/2381 [==============================] - 52s 22ms/step - loss: 0.5047 - auc: 0.8348 - val_loss: 0.4962 - val_auc: 0.8430\n",
            "Epoch 10/10\n",
            "2381/2381 [==============================] - 58s 24ms/step - loss: 0.4952 - auc: 0.8416 - val_loss: 0.4894 - val_auc: 0.8473\n"
          ]
        },
        {
          "output_type": "execute_result",
          "data": {
            "text/plain": [
              "<keras.callbacks.History at 0x7f03403baaf0>"
            ]
          },
          "metadata": {},
          "execution_count": 32
        }
      ]
    },
    {
      "cell_type": "markdown",
      "source": [
        "## saving predictions results"
      ],
      "metadata": {
        "id": "2Y1GZIWpO81m"
      }
    },
    {
      "cell_type": "code",
      "source": [
        "y_pred = model.predict(\n",
        "    gen_batch(test_data, batch_size=16, shuffle=False)\n",
        ")\n",
        "y_pred = np.reshape(y_pred, -1)"
      ],
      "metadata": {
        "colab": {
          "base_uri": "https://localhost:8080/"
        },
        "id": "f0QiJUG4Ou-u",
        "outputId": "ed4a1fe3-047e-48c8-a3ef-e61aa2c1322a"
      },
      "execution_count": null,
      "outputs": [
        {
          "output_type": "stream",
          "name": "stdout",
          "text": [
            "771/771 [==============================] - 5s 6ms/step\n"
          ]
        }
      ]
    },
    {
      "cell_type": "code",
      "source": [
        "saveResult(y_pred, 'trial_1.csv')"
      ],
      "metadata": {
        "id": "ddnpaaFOPEMA"
      },
      "execution_count": null,
      "outputs": []
    },
    {
      "cell_type": "markdown",
      "source": [
        "## Thoughts and observations for trial 1, plan for trial 2:\n",
        "\n",
        "since our task is bioassay for anti cancer prediction , where each chemical compound is  represented as a graph i used `GNN` \n",
        "\n",
        "i used the default hyperparameters except for the hidden_dim which i set it to be 32  \n",
        "\n",
        "**The results**\n",
        "* Traing : around 84 % \n",
        "* kaggle public score : 82% \n",
        "\n",
        "oberservations : since the data where not upsaplmed the accuracy is not considered to be good enough \n",
        "\n",
        "Plans :  try using the same model but this time with upsamled data \n"
      ],
      "metadata": {
        "id": "5Q8OSFVKYG6O"
      }
    },
    {
      "cell_type": "markdown",
      "source": [
        "## Trial_2\n",
        "* Model : GNN \n",
        "* data : upsampled\n",
        "* Hidden_dim : 32\n",
        "* Batch_size : 16\n",
        "* epochs : 10"
      ],
      "metadata": {
        "id": "ai3y-NckZhMU"
      }
    },
    {
      "cell_type": "markdown",
      "source": [
        "# Model"
      ],
      "metadata": {
        "id": "VEoXDsilZtJg"
      }
    },
    {
      "cell_type": "code",
      "source": [
        "\n",
        "data = keras.Input(batch_shape=(None,)) #Input layer for nodes (tokenized text data) \n",
        "\n",
        "# the first dim is different to the previous one. it is the total number of edges in this batch\n",
        "edge = keras.Input(batch_shape=(None, 2), dtype=tf.int32)\n",
        "node2graph = keras.Input(batch_shape=(None,), dtype=tf.int32)\n",
        "embeded = Embedding(tokenizer.num_words, 20)(data)\n",
        "\n",
        "# number of graphs (number of samples)\n",
        "num_graph = tf.reduce_max(node2graph)+1\n",
        "\n",
        "# declare the GNNInput that take the features of node, the edge, the created list 'node2graph', and number of graphs (number of samples)\n",
        "gnn_input = GNNInput(\n",
        "    node_features = embeded,\n",
        "    adjacency_lists = (edge,),\n",
        "    node_to_graph_map = node2graph, \n",
        "    num_graphs = num_graph,\n",
        ")\n",
        "\n",
        "\n",
        "# frist load the defualt hyperparameters\n",
        "params = GNN.get_default_hyperparameters()\n",
        "params[\"hidden_dim\"] = 32\n",
        "\n",
        "# Graph Neural Network layer with defined hyperparameters\n",
        "gnn_layer = GNN(params)\n",
        "gnn_out = gnn_layer(gnn_input)\n",
        "\n",
        "print('gnn_out', gnn_out)\n",
        "\n",
        "\n",
        "\n",
        "avg = segment_mean(\n",
        "    data = gnn_out,\n",
        "    segment_ids = node2graph\n",
        ")\n",
        "print('mean:', avg)\n",
        "\n",
        "# Define the out put layer of the model\n",
        "pred = Dense(1, activation='sigmoid')(avg)\n",
        "print('pred:', pred)\n",
        "\n",
        "\n",
        "# Creating the model\n",
        "model = Model(\n",
        "    inputs = {\n",
        "        'data': data,\n",
        "        'edges': edge,\n",
        "        'node2grah': node2graph,\n",
        "    },\n",
        "    outputs = pred\n",
        ")\n",
        "# printing summary of the model\n",
        "model.summary()"
      ],
      "metadata": {
        "colab": {
          "base_uri": "https://localhost:8080/"
        },
        "id": "d5uy5XAAPH7t",
        "outputId": "ae3ed0a3-a833-400c-e51a-ac30ce89cbc2"
      },
      "execution_count": null,
      "outputs": [
        {
          "output_type": "stream",
          "name": "stdout",
          "text": [
            "gnn_out KerasTensor(type_spec=TensorSpec(shape=(None, 32), dtype=tf.float32, name=None), name='gnn_1/StatefulPartitionedCall:0', description=\"created by layer 'gnn_1'\")\n",
            "mean: KerasTensor(type_spec=TensorSpec(shape=(None, 32), dtype=tf.float32, name=None), name='tf.math.segment_mean_1/SegmentMean:0', description=\"created by layer 'tf.math.segment_mean_1'\")\n",
            "pred: KerasTensor(type_spec=TensorSpec(shape=(None, 1), dtype=tf.float32, name=None), name='dense_1/Sigmoid:0', description=\"created by layer 'dense_1'\")\n",
            "Model: \"model_1\"\n",
            "__________________________________________________________________________________________________\n",
            " Layer (type)                   Output Shape         Param #     Connected to                     \n",
            "==================================================================================================\n",
            " input_6 (InputLayer)           [(None,)]            0           []                               \n",
            "                                                                                                  \n",
            " input_4 (InputLayer)           [(None,)]            0           []                               \n",
            "                                                                                                  \n",
            " tf.math.reduce_max_1 (TFOpLamb  ()                  0           ['input_6[0][0]']                \n",
            " da)                                                                                              \n",
            "                                                                                                  \n",
            " embedding_1 (Embedding)        (None, 20)           10000       ['input_4[0][0]']                \n",
            "                                                                                                  \n",
            " input_5 (InputLayer)           [(None, 2)]          0           []                               \n",
            "                                                                                                  \n",
            " tf.__operators__.add_1 (TFOpLa  ()                  0           ['tf.math.reduce_max_1[0][0]']   \n",
            " mbda)                                                                                            \n",
            "                                                                                                  \n",
            " gnn_1 (GNN)                    (None, 32)           22464       ['embedding_1[0][0]',            \n",
            "                                                                  'input_5[0][0]',                \n",
            "                                                                  'input_6[0][0]',                \n",
            "                                                                  'tf.__operators__.add_1[0][0]'] \n",
            "                                                                                                  \n",
            " tf.math.segment_mean_1 (TFOpLa  (None, 32)          0           ['gnn_1[0][0]',                  \n",
            " mbda)                                                            'input_6[0][0]']                \n",
            "                                                                                                  \n",
            " dense_1 (Dense)                (None, 1)            33          ['tf.math.segment_mean_1[0][0]'] \n",
            "                                                                                                  \n",
            "==================================================================================================\n",
            "Total params: 32,497\n",
            "Trainable params: 32,497\n",
            "Non-trainable params: 0\n",
            "__________________________________________________________________________________________________\n"
          ]
        }
      ]
    },
    {
      "cell_type": "code",
      "source": [
        "## Model compiling\n",
        "model.compile(\n",
        "    loss='BinaryCrossentropy',\n",
        "    metrics=['AUC']\n",
        ")"
      ],
      "metadata": {
        "id": "mZ6yrynyZwyP"
      },
      "execution_count": null,
      "outputs": []
    },
    {
      "cell_type": "markdown",
      "source": [
        "# Fitting the model"
      ],
      "metadata": {
        "id": "TkDzZ-2ZZ3PQ"
      }
    },
    {
      "cell_type": "code",
      "source": [
        "\n",
        "batch_size = 16\n",
        "\n",
        "# calculate steps_per_epoch for training and validation data\n",
        "num_batchs = math.ceil(len(training_set) / batch_size)\n",
        "num_batchs_validation = math.ceil(len(validation_set) / batch_size)\n",
        "\n",
        "model.fit(\n",
        "    gen_batch(\n",
        "        training_set, batch_size=batch_size, repeat=True\n",
        "    ),\n",
        "    steps_per_epoch = num_batchs,\n",
        "    epochs = 10,\n",
        "    validation_data = gen_batch(\n",
        "        validation_set, batch_size=16, repeat=True\n",
        "    ),\n",
        "    validation_steps = num_batchs_validation,\n",
        ")"
      ],
      "metadata": {
        "colab": {
          "base_uri": "https://localhost:8080/"
        },
        "id": "C5QtOrMIZ1iK",
        "outputId": "273e3ca8-3be0-4cd4-cdf7-ee23cfd02b71"
      },
      "execution_count": null,
      "outputs": [
        {
          "output_type": "stream",
          "name": "stdout",
          "text": [
            "Epoch 1/10\n",
            "2381/2381 [==============================] - 73s 29ms/step - loss: 0.6372 - auc: 0.6857 - val_loss: 0.6050 - val_auc: 0.7338\n",
            "Epoch 2/10\n",
            "2381/2381 [==============================] - 64s 27ms/step - loss: 0.5942 - auc: 0.7474 - val_loss: 0.5769 - val_auc: 0.7640\n",
            "Epoch 3/10\n",
            "2381/2381 [==============================] - 53s 22ms/step - loss: 0.5740 - auc: 0.7715 - val_loss: 0.5649 - val_auc: 0.7867\n",
            "Epoch 4/10\n",
            "2381/2381 [==============================] - 54s 23ms/step - loss: 0.5555 - auc: 0.7893 - val_loss: 0.5378 - val_auc: 0.8031\n",
            "Epoch 5/10\n",
            "2381/2381 [==============================] - 61s 26ms/step - loss: 0.5379 - auc: 0.8059 - val_loss: 0.5194 - val_auc: 0.8217\n",
            "Epoch 6/10\n",
            "2381/2381 [==============================] - 53s 22ms/step - loss: 0.5246 - auc: 0.8172 - val_loss: 0.5210 - val_auc: 0.8249\n",
            "Epoch 7/10\n",
            "2381/2381 [==============================] - 55s 23ms/step - loss: 0.5186 - auc: 0.8237 - val_loss: 0.5130 - val_auc: 0.8311\n",
            "Epoch 8/10\n",
            "2381/2381 [==============================] - 59s 25ms/step - loss: 0.5135 - auc: 0.8266 - val_loss: 0.5009 - val_auc: 0.8395\n",
            "Epoch 9/10\n",
            "2381/2381 [==============================] - 61s 26ms/step - loss: 0.5075 - auc: 0.8318 - val_loss: 0.4976 - val_auc: 0.8397\n",
            "Epoch 10/10\n",
            "2381/2381 [==============================] - 53s 22ms/step - loss: 0.5038 - auc: 0.8347 - val_loss: 0.5037 - val_auc: 0.8362\n"
          ]
        },
        {
          "output_type": "execute_result",
          "data": {
            "text/plain": [
              "<keras.callbacks.History at 0x7f032daadf40>"
            ]
          },
          "metadata": {},
          "execution_count": 38
        }
      ]
    },
    {
      "cell_type": "markdown",
      "source": [
        "## saving predictions results"
      ],
      "metadata": {
        "id": "5iMe6mGnaEuv"
      }
    },
    {
      "cell_type": "code",
      "source": [
        "y_pred = model.predict(\n",
        "    gen_batch(test_data, batch_size=16, shuffle=False)\n",
        ")\n",
        "y_pred = np.reshape(y_pred, -1)\n"
      ],
      "metadata": {
        "colab": {
          "base_uri": "https://localhost:8080/"
        },
        "id": "WgZ3f3lIZ6hK",
        "outputId": "1fd53c58-ce71-4243-9951-134c9e6cb2e0"
      },
      "execution_count": null,
      "outputs": [
        {
          "output_type": "stream",
          "name": "stdout",
          "text": [
            "771/771 [==============================] - 5s 6ms/step\n"
          ]
        }
      ]
    },
    {
      "cell_type": "code",
      "source": [
        "saveResult(y_pred, 'trial_2.csv')"
      ],
      "metadata": {
        "id": "h9x0Uo4xaKVp"
      },
      "execution_count": null,
      "outputs": []
    },
    {
      "cell_type": "markdown",
      "source": [
        "## Thoughts and observations for trial 2, plan for trial 3:\n",
        "\n",
        "Using the same strcture of the previus model and the only diffrence was only using upsampling data \n",
        "\n",
        "**The results**\n",
        "* Training : 83.47%  \n",
        "* kaggle public score : 79.30%\n",
        "\n",
        "oberservations : the accuracy decreased a little bit \n",
        "\n",
        "Plans :  try using the same model and upsampled data one more time but this time trying to use  one of the `GCN aggregation mechanisms` by tuning the `message_passing mechanisms` and `configure the message passing style to be GGNN`"
      ],
      "metadata": {
        "id": "KaRMS6zleIAR"
      }
    },
    {
      "cell_type": "markdown",
      "source": [
        "## Trial_3\n",
        "* Model : GNN \n",
        "* data : upsampled\n",
        "* Hidden_dim : 32\n",
        "* Batch_size : 16\n",
        "* epochs : 10\n",
        "\n",
        "**Tuning**\n",
        "* message_calculation_class  : GGNN "
      ],
      "metadata": {
        "id": "lo3qyL77fszZ"
      }
    },
    {
      "cell_type": "markdown",
      "source": [
        "# Model"
      ],
      "metadata": {
        "id": "9MtEDc0RgEpD"
      }
    },
    {
      "cell_type": "code",
      "source": [
        "\n",
        "data = keras.Input(batch_shape=(None,))\n",
        "\n",
        "# the first dim is different to the previous one. it is the total number of edges in this batch\n",
        "edge = keras.Input(batch_shape=(None, 2), dtype=tf.int32)\n",
        "node2graph = keras.Input(batch_shape=(None,), dtype=tf.int32)\n",
        "embeded = Embedding(tokenizer.num_words, 20)(data)\n",
        "\n",
        "# number of graphs (number of samples)\n",
        "num_graph = tf.reduce_max(node2graph)+1\n",
        "\n",
        "# declare the GNNInput that take the features of node, the edge, the created list 'node2graph', and number of graphs (number of samples)\n",
        "gnn_input = GNNInput(\n",
        "    node_features=embeded,\n",
        "    adjacency_lists=(edge,),\n",
        "    node_to_graph_map=node2graph, \n",
        "    num_graphs=num_graph,\n",
        ")\n",
        "\n",
        "\n",
        "# frist load the defualt hyperparameters\n",
        "params = GNN.get_default_hyperparameters()\n",
        "\n",
        "params[\"hidden_dim\"] = 32\n",
        "\n",
        "params['message_calculation_class'] = 'GGNN'\n",
        "\n",
        "# Implements a deep Graph Neural Network\n",
        "gnn_layer = GNN(params)\n",
        "gnn_out = gnn_layer(gnn_input)\n",
        "\n",
        "\n",
        "\n",
        "# Computes the mean along segments of a tensor\n",
        "avg = segment_mean(\n",
        "    data = gnn_out,\n",
        "    segment_ids = node2graph\n",
        ")\n",
        "\n",
        "# Define the out put layer of the model\n",
        "pred = Dense(1, activation='sigmoid')(avg)\n",
        "\n",
        "\n",
        "# Creating the model\n",
        "model = Model(\n",
        "    inputs={\n",
        "        'data': data,\n",
        "        'edges': edge,\n",
        "        'node2grah': node2graph,\n",
        "    },\n",
        "    outputs = pred\n",
        ")\n",
        "model.summary()"
      ],
      "metadata": {
        "colab": {
          "base_uri": "https://localhost:8080/"
        },
        "id": "JTu9wnBpaWD6",
        "outputId": "a19298ee-bf3c-4e94-f3d7-763c8980fc27"
      },
      "execution_count": null,
      "outputs": [
        {
          "output_type": "stream",
          "name": "stdout",
          "text": [
            "Model: \"model_2\"\n",
            "__________________________________________________________________________________________________\n",
            " Layer (type)                   Output Shape         Param #     Connected to                     \n",
            "==================================================================================================\n",
            " input_9 (InputLayer)           [(None,)]            0           []                               \n",
            "                                                                                                  \n",
            " input_7 (InputLayer)           [(None,)]            0           []                               \n",
            "                                                                                                  \n",
            " tf.math.reduce_max_2 (TFOpLamb  ()                  0           ['input_9[0][0]']                \n",
            " da)                                                                                              \n",
            "                                                                                                  \n",
            " embedding_2 (Embedding)        (None, 20)           10000       ['input_7[0][0]']                \n",
            "                                                                                                  \n",
            " input_8 (InputLayer)           [(None, 2)]          0           []                               \n",
            "                                                                                                  \n",
            " tf.__operators__.add_2 (TFOpLa  ()                  0           ['tf.math.reduce_max_2[0][0]']   \n",
            " mbda)                                                                                            \n",
            "                                                                                                  \n",
            " gnn_2 (GNN)                    (None, 32)           47808       ['embedding_2[0][0]',            \n",
            "                                                                  'input_8[0][0]',                \n",
            "                                                                  'input_9[0][0]',                \n",
            "                                                                  'tf.__operators__.add_2[0][0]'] \n",
            "                                                                                                  \n",
            " tf.math.segment_mean_2 (TFOpLa  (None, 32)          0           ['gnn_2[0][0]',                  \n",
            " mbda)                                                            'input_9[0][0]']                \n",
            "                                                                                                  \n",
            " dense_2 (Dense)                (None, 1)            33          ['tf.math.segment_mean_2[0][0]'] \n",
            "                                                                                                  \n",
            "==================================================================================================\n",
            "Total params: 57,841\n",
            "Trainable params: 57,841\n",
            "Non-trainable params: 0\n",
            "__________________________________________________________________________________________________\n"
          ]
        }
      ]
    },
    {
      "cell_type": "code",
      "source": [
        "## compiling model\n",
        "model.compile(\n",
        "    loss='BinaryCrossentropy',\n",
        "    metrics=['AUC']\n",
        ")"
      ],
      "metadata": {
        "id": "hOyS8LkjgPGD"
      },
      "execution_count": null,
      "outputs": []
    },
    {
      "cell_type": "markdown",
      "source": [
        "# Fitting the model"
      ],
      "metadata": {
        "id": "UzkKaX1fgTha"
      }
    },
    {
      "cell_type": "code",
      "source": [
        "batch_size = 16\n",
        "\n",
        "# calculate steps_per_epoch for training and validation data\n",
        "num_batchs = math.ceil(len(training_set) / batch_size)\n",
        "num_batchs_validation = math.ceil(len(validation_set) / batch_size)\n",
        "\n",
        "# training the model for 5 epochs\n",
        "model.fit(\n",
        "    gen_batch(\n",
        "        training_set, batch_size=batch_size, repeat=True\n",
        "    ),\n",
        "    steps_per_epoch = num_batchs,\n",
        "    epochs = 10,\n",
        "    validation_data = gen_batch(\n",
        "        validation_set, batch_size=16, repeat=True\n",
        "    ),\n",
        "    validation_steps = num_batchs_validation,\n",
        ")"
      ],
      "metadata": {
        "colab": {
          "base_uri": "https://localhost:8080/"
        },
        "id": "jHBcsRcWgSay",
        "outputId": "04a67333-81ae-41d6-cf2a-fa39bf6e587c"
      },
      "execution_count": null,
      "outputs": [
        {
          "output_type": "stream",
          "name": "stdout",
          "text": [
            "Epoch 1/10\n",
            "2381/2381 [==============================] - 111s 44ms/step - loss: 0.6406 - auc: 0.6765 - val_loss: 0.6061 - val_auc: 0.7296\n",
            "Epoch 2/10\n",
            "2381/2381 [==============================] - 91s 38ms/step - loss: 0.5861 - auc: 0.7575 - val_loss: 0.5564 - val_auc: 0.7900\n",
            "Epoch 3/10\n",
            "2381/2381 [==============================] - 88s 37ms/step - loss: 0.5371 - auc: 0.8058 - val_loss: 0.5269 - val_auc: 0.8290\n",
            "Epoch 4/10\n",
            "2381/2381 [==============================] - 85s 36ms/step - loss: 0.5040 - auc: 0.8339 - val_loss: 0.4742 - val_auc: 0.8575\n",
            "Epoch 5/10\n",
            "2381/2381 [==============================] - 87s 36ms/step - loss: 0.4765 - auc: 0.8536 - val_loss: 0.4590 - val_auc: 0.8680\n",
            "Epoch 6/10\n",
            "2381/2381 [==============================] - 88s 37ms/step - loss: 0.4585 - auc: 0.8657 - val_loss: 0.4538 - val_auc: 0.8746\n",
            "Epoch 7/10\n",
            "2381/2381 [==============================] - 88s 37ms/step - loss: 0.4392 - auc: 0.8783 - val_loss: 0.4270 - val_auc: 0.8875\n",
            "Epoch 8/10\n",
            "2381/2381 [==============================] - 87s 36ms/step - loss: 0.4221 - auc: 0.8882 - val_loss: 0.4036 - val_auc: 0.9017\n",
            "Epoch 9/10\n",
            "2381/2381 [==============================] - 90s 38ms/step - loss: 0.4052 - auc: 0.8976 - val_loss: 0.4134 - val_auc: 0.8997\n",
            "Epoch 10/10\n",
            "2381/2381 [==============================] - 88s 37ms/step - loss: 0.3885 - auc: 0.9061 - val_loss: 0.3735 - val_auc: 0.9141\n"
          ]
        },
        {
          "output_type": "execute_result",
          "data": {
            "text/plain": [
              "<keras.callbacks.History at 0x7f032c202850>"
            ]
          },
          "metadata": {},
          "execution_count": 47
        }
      ]
    },
    {
      "cell_type": "markdown",
      "source": [
        "## saving predictions results"
      ],
      "metadata": {
        "id": "-kduCzblgcL_"
      }
    },
    {
      "cell_type": "code",
      "source": [
        "y_pred = model.predict(\n",
        "    gen_batch(test_data, batch_size=16, shuffle=False)\n",
        ")\n",
        "y_pred = np.reshape(y_pred, -1)\n"
      ],
      "metadata": {
        "colab": {
          "base_uri": "https://localhost:8080/"
        },
        "id": "zRsWN6SMgYtj",
        "outputId": "bbab8283-630f-4639-f27b-f0c46def056a"
      },
      "execution_count": null,
      "outputs": [
        {
          "output_type": "stream",
          "name": "stdout",
          "text": [
            "771/771 [==============================] - 10s 12ms/step\n"
          ]
        }
      ]
    },
    {
      "cell_type": "code",
      "source": [
        "saveResult(y_pred, 'trial_3.csv')"
      ],
      "metadata": {
        "id": "DJ8zZq6ygg8n"
      },
      "execution_count": null,
      "outputs": []
    },
    {
      "cell_type": "markdown",
      "source": [
        "## Thoughts and observations for trial 3, plan for trial 4:\n",
        "\n",
        "Using the same strcture of the previus model and the only diffrence was only Tuning the model by setting message passing style to GGNN \n",
        "\n",
        "**The results**\n",
        "* Training : 90.61%  \n",
        "* kaggle public score : 86.60%\n",
        "\n",
        "oberservations : THe accuracy is much better than the two previous trails \n",
        "\n",
        "Plans :  try using the same model and upsampled data one more time but this time trying try another `GCN aggregation mechanisms` by tuning the `message_passing mechanisms` and `configure the message passing style to be RGCN`"
      ],
      "metadata": {
        "id": "Ca8KxJoLkg1N"
      }
    },
    {
      "cell_type": "markdown",
      "source": [
        "## Trial_4\n",
        "* Model : GNN \n",
        "* data : upsampled\n",
        "* Hidden_dim : 32\n",
        "* Batch_size : 16\n",
        "* epochs : 10\n",
        "\n",
        "**Tuning**\n",
        "* message_calculation_class  : RGCN "
      ],
      "metadata": {
        "id": "2GkTbQaylBZM"
      }
    },
    {
      "cell_type": "markdown",
      "source": [
        "# Model"
      ],
      "metadata": {
        "id": "y5xcfSxtlFpk"
      }
    },
    {
      "cell_type": "code",
      "source": [
        "data = keras.Input(batch_shape=(None,))\n",
        "\n",
        "# the first dim is different to the previous one. it is the total number of edges in this batch\n",
        "edge = keras.Input(batch_shape=(None, 2), dtype=tf.int32)\n",
        "node2graph = keras.Input(batch_shape=(None,), dtype=tf.int32)\n",
        "embeded = Embedding(tokenizer.num_words, 20)(data)\n",
        "\n",
        "# number of graphs (number of samples)\n",
        "num_graph = tf.reduce_max(node2graph)+1\n",
        "\n",
        "# declare the GNNInput that take the features of node, the edge, the created list 'node2graph', and number of graphs (number of samples)\n",
        "gnn_input = GNNInput(\n",
        "    node_features = embeded,\n",
        "    adjacency_lists = (edge,),\n",
        "    node_to_graph_map = node2graph, \n",
        "    num_graphs = num_graph,\n",
        ")\n",
        "\n",
        "\n",
        "# configure the hyperparameters of GNN layers\n",
        "# https://github.com/microsoft/tf2-gnn/blob/master/tf2_gnn/layers/gnn.py\n",
        "# \n",
        "# frist load the defualt hyperparameters\n",
        "params = GNN.get_default_hyperparameters()\n",
        "# sets the size of the output of all message passing layers\n",
        "params[\"hidden_dim\"] = 32\n",
        "# configures the message passing style to be RGCN (Relational Graph Convolutional Networks)\n",
        "params['message_calculation_class'] = 'RGCN'\n",
        "\n",
        "# Implements a deep Graph Neural Network\n",
        "gnn_layer = GNN(params)\n",
        "gnn_out = gnn_layer(gnn_input)\n",
        "\n",
        "\n",
        "\n",
        "# Computes the mean along segments of a tensor\n",
        "# https://www.tensorflow.org/api_docs/python/tf/math/segment_mean\n",
        "avg = segment_mean(\n",
        "    data = gnn_out,\n",
        "    segment_ids = node2graph\n",
        ")\n",
        "\n",
        "# Define the output layer of the model\n",
        "pred = Dense(1, activation='sigmoid')(avg)\n",
        "\n",
        "\n",
        "# Creating the model\n",
        "model = Model(\n",
        "    inputs = {\n",
        "        'data': data,\n",
        "        'edges': edge,\n",
        "        'node2grah': node2graph,\n",
        "    },\n",
        "    outputs = pred\n",
        ")\n",
        "model.summary()"
      ],
      "metadata": {
        "colab": {
          "base_uri": "https://localhost:8080/"
        },
        "id": "Xt5PGmsHgkqt",
        "outputId": "c01b2092-72d7-4cf5-cba7-18699f723f6d"
      },
      "execution_count": null,
      "outputs": [
        {
          "output_type": "stream",
          "name": "stdout",
          "text": [
            "Model: \"model_3\"\n",
            "__________________________________________________________________________________________________\n",
            " Layer (type)                   Output Shape         Param #     Connected to                     \n",
            "==================================================================================================\n",
            " input_12 (InputLayer)          [(None,)]            0           []                               \n",
            "                                                                                                  \n",
            " input_10 (InputLayer)          [(None,)]            0           []                               \n",
            "                                                                                                  \n",
            " tf.math.reduce_max_3 (TFOpLamb  ()                  0           ['input_12[0][0]']               \n",
            " da)                                                                                              \n",
            "                                                                                                  \n",
            " embedding_3 (Embedding)        (None, 20)           10000       ['input_10[0][0]']               \n",
            "                                                                                                  \n",
            " input_11 (InputLayer)          [(None, 2)]          0           []                               \n",
            "                                                                                                  \n",
            " tf.__operators__.add_3 (TFOpLa  ()                  0           ['tf.math.reduce_max_3[0][0]']   \n",
            " mbda)                                                                                            \n",
            "                                                                                                  \n",
            " gnn_3 (GNN)                    (None, 32)           22464       ['embedding_3[0][0]',            \n",
            "                                                                  'input_11[0][0]',               \n",
            "                                                                  'input_12[0][0]',               \n",
            "                                                                  'tf.__operators__.add_3[0][0]'] \n",
            "                                                                                                  \n",
            " tf.math.segment_mean_3 (TFOpLa  (None, 32)          0           ['gnn_3[0][0]',                  \n",
            " mbda)                                                            'input_12[0][0]']               \n",
            "                                                                                                  \n",
            " dense_3 (Dense)                (None, 1)            33          ['tf.math.segment_mean_3[0][0]'] \n",
            "                                                                                                  \n",
            "==================================================================================================\n",
            "Total params: 32,497\n",
            "Trainable params: 32,497\n",
            "Non-trainable params: 0\n",
            "__________________________________________________________________________________________________\n"
          ]
        }
      ]
    },
    {
      "cell_type": "code",
      "source": [
        "## Model compiling\n",
        "model.compile(\n",
        "    loss='BinaryCrossentropy',\n",
        "    metrics=['AUC']\n",
        ")"
      ],
      "metadata": {
        "id": "XO7W2PtglJ82"
      },
      "execution_count": null,
      "outputs": []
    },
    {
      "cell_type": "markdown",
      "source": [
        "# Fitting the model"
      ],
      "metadata": {
        "id": "Dgm0wwL0lOW5"
      }
    },
    {
      "cell_type": "code",
      "source": [
        "batch_size = 16\n",
        "\n",
        "# calculate steps_per_epoch for training and validation data\n",
        "num_batchs = math.ceil(len(training_set) / batch_size)\n",
        "num_batchs_validation = math.ceil(len(validation_set) / batch_size)\n",
        "\n",
        "# training the model for 5 epochs\n",
        "model.fit(\n",
        "    gen_batch(\n",
        "        training_set, batch_size=batch_size, repeat=True\n",
        "    ),\n",
        "    steps_per_epoch = num_batchs,\n",
        "    epochs = 10,\n",
        "    validation_data = gen_batch(\n",
        "        validation_set, batch_size=16, repeat=True\n",
        "    ),\n",
        "    validation_steps = num_batchs_validation,\n",
        ")"
      ],
      "metadata": {
        "colab": {
          "base_uri": "https://localhost:8080/"
        },
        "id": "-CztVN3qlNSt",
        "outputId": "8e2f6f75-04d9-4e51-c2b0-5838876429cc"
      },
      "execution_count": null,
      "outputs": [
        {
          "output_type": "stream",
          "name": "stdout",
          "text": [
            "Epoch 1/10\n",
            "2381/2381 [==============================] - 71s 28ms/step - loss: 0.6369 - auc: 0.6875 - val_loss: 0.6322 - val_auc: 0.7287\n",
            "Epoch 2/10\n",
            "2381/2381 [==============================] - 53s 22ms/step - loss: 0.6009 - auc: 0.7406 - val_loss: 0.5931 - val_auc: 0.7522\n",
            "Epoch 3/10\n",
            "2381/2381 [==============================] - 56s 23ms/step - loss: 0.5888 - auc: 0.7553 - val_loss: 0.5777 - val_auc: 0.7719\n",
            "Epoch 4/10\n",
            "2381/2381 [==============================] - 53s 22ms/step - loss: 0.5713 - auc: 0.7723 - val_loss: 0.5642 - val_auc: 0.7810\n",
            "Epoch 5/10\n",
            "2381/2381 [==============================] - 55s 23ms/step - loss: 0.5594 - auc: 0.7845 - val_loss: 0.5423 - val_auc: 0.7980\n",
            "Epoch 6/10\n",
            "2381/2381 [==============================] - 57s 24ms/step - loss: 0.5490 - auc: 0.7948 - val_loss: 0.5404 - val_auc: 0.8045\n",
            "Epoch 7/10\n",
            "2381/2381 [==============================] - 59s 25ms/step - loss: 0.5356 - auc: 0.8075 - val_loss: 0.5348 - val_auc: 0.8113\n",
            "Epoch 8/10\n",
            "2381/2381 [==============================] - 54s 23ms/step - loss: 0.5248 - auc: 0.8168 - val_loss: 0.5135 - val_auc: 0.8313\n",
            "Epoch 9/10\n",
            "2381/2381 [==============================] - 58s 25ms/step - loss: 0.5169 - auc: 0.8253 - val_loss: 0.5149 - val_auc: 0.8314\n",
            "Epoch 10/10\n",
            "2381/2381 [==============================] - 56s 23ms/step - loss: 0.5050 - auc: 0.8342 - val_loss: 0.4999 - val_auc: 0.8413\n"
          ]
        },
        {
          "output_type": "execute_result",
          "data": {
            "text/plain": [
              "<keras.callbacks.History at 0x7f0326d1df70>"
            ]
          },
          "metadata": {},
          "execution_count": 52
        }
      ]
    },
    {
      "cell_type": "markdown",
      "source": [
        "## saving predictions results"
      ],
      "metadata": {
        "id": "m_QpfqnylYbG"
      }
    },
    {
      "cell_type": "code",
      "source": [
        "y_pred = model.predict(\n",
        "    gen_batch(test_data, batch_size=16, shuffle=False)\n",
        ")\n",
        "y_pred = np.reshape(y_pred, -1)\n"
      ],
      "metadata": {
        "colab": {
          "base_uri": "https://localhost:8080/"
        },
        "id": "8T_a_fX1lUG9",
        "outputId": "6d041650-5e14-4bfb-ed2d-76b3aaa9aeab"
      },
      "execution_count": null,
      "outputs": [
        {
          "output_type": "stream",
          "name": "stdout",
          "text": [
            "771/771 [==============================] - 5s 6ms/step\n"
          ]
        }
      ]
    },
    {
      "cell_type": "code",
      "source": [
        "saveResult(y_pred, 'trial_4.csv')"
      ],
      "metadata": {
        "id": "-SmbdFMOlbhw"
      },
      "execution_count": null,
      "outputs": []
    },
    {
      "cell_type": "markdown",
      "source": [
        "## Thoughts and observations for trial 4, plan for trial 5:\n",
        "\n",
        "Using the same strcture of the previus model and the only diffrence was only Tuning the model by setting message passing style to RGCN \n",
        "\n",
        "**The results**\n",
        "* Training : 83.42%  \n",
        "* kaggle public score : 80.48%\n",
        "\n",
        "oberservations : The accuracy is not as good as the previous one a drastic decrease happened here 😞\n",
        "\n",
        "Plans :  try using the same model and upsampled data one more time but this time trying try another `GCN aggregation mechanisms` by tuning the `message_passing mechanisms` and `configure the message passing style to be RGAT` and by setting the and setting the number of parallel (independent) weighted sums that are computed `num_heads` to be 5"
      ],
      "metadata": {
        "id": "M5_xuwl8ohKf"
      }
    },
    {
      "cell_type": "markdown",
      "source": [
        "## Trial_5\n",
        "* Model : GNN \n",
        "* data : upsampled\n",
        "* Hidden_dim : 32\n",
        "* Batch_size : 16\n",
        "* epochs : 10\n",
        "\n",
        "**Tuning**\n",
        "* message_calculation_class  : RGAT\n",
        "* num_heads: 5"
      ],
      "metadata": {
        "id": "-sH9f33QpQ3_"
      }
    },
    {
      "cell_type": "markdown",
      "source": [
        "# Model"
      ],
      "metadata": {
        "id": "UREJsBmOpfFz"
      }
    },
    {
      "cell_type": "code",
      "source": [
        "data = keras.Input(batch_shape=(None,))\n",
        "\n",
        "# the first dim is different to the previous one. it is the total number of edges in this batch\n",
        "edge = keras.Input(batch_shape=(None, 2), dtype=tf.int32)\n",
        "node2graph = keras.Input(batch_shape=(None,), dtype=tf.int32)\n",
        "embeded = Embedding(tokenizer.num_words, 20)(data)\n",
        "\n",
        "# number of graphs (number of samples)\n",
        "num_graph = tf.reduce_max(node2graph)+1\n",
        "\n",
        "# declare the GNNInput that take the features of node, the edge, the created list 'node2graph', and number of graphs (number of samples)\n",
        "gnn_input = GNNInput(\n",
        "    node_features = embeded,\n",
        "    adjacency_lists = (edge,),\n",
        "    node_to_graph_map = node2graph, \n",
        "    num_graphs = num_graph,\n",
        ")\n",
        "\n",
        "\n",
        "# configure the hyperparameters of GNN layers\n",
        "# https://github.com/microsoft/tf2-gnn/blob/master/tf2_gnn/layers/gnn.py\n",
        "# \n",
        "# frist load the defualt hyperparameters\n",
        "params = GNN.get_default_hyperparameters()\n",
        "# sets the size of the output of all message passing layers\n",
        "params[\"hidden_dim\"] = 32\n",
        "# configures the message passing style to be RGAT (Relational Graph Attention Networks)\n",
        "params['message_calculation_class'] = 'RGAT'\n",
        "# configures the number of parallel (independent) weighted sums that are computed, whose results are concatenated to obtain the final result.\n",
        "params[\"num_heads\"] = 4\n",
        "\n",
        "# Implements a deep Graph Neural Network\n",
        "gnn_layer = GNN(params)\n",
        "gnn_out = gnn_layer(gnn_input)\n",
        "\n",
        "\n",
        "\n",
        "# Computes the mean along segments of a tensor\n",
        "# https://www.tensorflow.org/api_docs/python/tf/math/segment_mean\n",
        "avg = segment_mean(\n",
        "    data = gnn_out,\n",
        "    segment_ids = node2graph\n",
        ")\n",
        "\n",
        "# Define the out put layer of the model\n",
        "pred = Dense(1, activation='sigmoid')(avg)\n",
        "\n",
        "\n",
        "# Creating the model\n",
        "model = Model(\n",
        "    inputs = {\n",
        "        'data': data,\n",
        "        'edges': edge,\n",
        "        'node2grah': node2graph,\n",
        "    },\n",
        "    outputs = pred\n",
        ")\n",
        "model.summary()"
      ],
      "metadata": {
        "colab": {
          "base_uri": "https://localhost:8080/"
        },
        "id": "0dqBX1BkleRK",
        "outputId": "f69c66b1-6d20-4ee3-cf57-256cf5ff1b20"
      },
      "execution_count": null,
      "outputs": [
        {
          "output_type": "stream",
          "name": "stdout",
          "text": [
            "Model: \"model_4\"\n",
            "__________________________________________________________________________________________________\n",
            " Layer (type)                   Output Shape         Param #     Connected to                     \n",
            "==================================================================================================\n",
            " input_15 (InputLayer)          [(None,)]            0           []                               \n",
            "                                                                                                  \n",
            " input_13 (InputLayer)          [(None,)]            0           []                               \n",
            "                                                                                                  \n",
            " tf.math.reduce_max_4 (TFOpLamb  ()                  0           ['input_15[0][0]']               \n",
            " da)                                                                                              \n",
            "                                                                                                  \n",
            " embedding_4 (Embedding)        (None, 20)           10000       ['input_13[0][0]']               \n",
            "                                                                                                  \n",
            " input_14 (InputLayer)          [(None, 2)]          0           []                               \n",
            "                                                                                                  \n",
            " tf.__operators__.add_4 (TFOpLa  ()                  0           ['tf.math.reduce_max_4[0][0]']   \n",
            " mbda)                                                                                            \n",
            "                                                                                                  \n",
            " gnn_4 (GNN)                    (None, 32)           22720       ['embedding_4[0][0]',            \n",
            "                                                                  'input_14[0][0]',               \n",
            "                                                                  'input_15[0][0]',               \n",
            "                                                                  'tf.__operators__.add_4[0][0]'] \n",
            "                                                                                                  \n",
            " tf.math.segment_mean_4 (TFOpLa  (None, 32)          0           ['gnn_4[0][0]',                  \n",
            " mbda)                                                            'input_15[0][0]']               \n",
            "                                                                                                  \n",
            " dense_4 (Dense)                (None, 1)            33          ['tf.math.segment_mean_4[0][0]'] \n",
            "                                                                                                  \n",
            "==================================================================================================\n",
            "Total params: 32,753\n",
            "Trainable params: 32,753\n",
            "Non-trainable params: 0\n",
            "__________________________________________________________________________________________________\n"
          ]
        }
      ]
    },
    {
      "cell_type": "code",
      "source": [
        "## compiling the model\n",
        "model.compile(\n",
        "    loss='BinaryCrossentropy',\n",
        "    metrics=['AUC']\n",
        ")"
      ],
      "metadata": {
        "id": "iLnHGVnJpiP9"
      },
      "execution_count": null,
      "outputs": []
    },
    {
      "cell_type": "markdown",
      "source": [
        "## Fitting The model"
      ],
      "metadata": {
        "id": "fXYb7gZxpoIc"
      }
    },
    {
      "cell_type": "code",
      "source": [
        "batch_size = 16\n",
        "\n",
        "# calculate steps_per_epoch for training and validation data\n",
        "num_batchs = math.ceil(len(training_set) / batch_size)\n",
        "num_batchs_validation = math.ceil(len(validation_set) / batch_size)\n",
        "\n",
        "model.fit(\n",
        "    gen_batch(\n",
        "        training_set, batch_size=batch_size, repeat=True\n",
        "    ),\n",
        "    steps_per_epoch = num_batchs,\n",
        "    epochs = 10,\n",
        "    validation_data = gen_batch(\n",
        "        validation_set, batch_size=16, repeat=True\n",
        "    ),\n",
        "    validation_steps = num_batchs_validation,\n",
        ")\n",
        "     "
      ],
      "metadata": {
        "colab": {
          "base_uri": "https://localhost:8080/"
        },
        "id": "E36l_iB5pnQ-",
        "outputId": "8727060f-870a-4a33-faa5-7d069873b8be"
      },
      "execution_count": null,
      "outputs": [
        {
          "output_type": "stream",
          "name": "stdout",
          "text": [
            "Epoch 1/10\n",
            "2381/2381 [==============================] - 103s 40ms/step - loss: 0.6411 - auc: 0.6782 - val_loss: 0.6239 - val_auc: 0.7164\n",
            "Epoch 2/10\n",
            "2381/2381 [==============================] - 80s 34ms/step - loss: 0.6029 - auc: 0.7390 - val_loss: 0.5932 - val_auc: 0.7567\n",
            "Epoch 3/10\n",
            "2381/2381 [==============================] - 79s 33ms/step - loss: 0.5834 - auc: 0.7629 - val_loss: 0.5810 - val_auc: 0.7769\n",
            "Epoch 4/10\n",
            "2381/2381 [==============================] - 82s 34ms/step - loss: 0.5604 - auc: 0.7876 - val_loss: 0.5407 - val_auc: 0.8063\n",
            "Epoch 5/10\n",
            "2381/2381 [==============================] - 81s 34ms/step - loss: 0.5389 - auc: 0.8080 - val_loss: 0.5267 - val_auc: 0.8264\n",
            "Epoch 6/10\n",
            "2381/2381 [==============================] - 76s 32ms/step - loss: 0.5230 - auc: 0.8216 - val_loss: 0.5132 - val_auc: 0.8322\n",
            "Epoch 7/10\n",
            "2381/2381 [==============================] - 77s 32ms/step - loss: 0.5103 - auc: 0.8316 - val_loss: 0.5105 - val_auc: 0.8427\n",
            "Epoch 8/10\n",
            "2381/2381 [==============================] - 77s 32ms/step - loss: 0.4983 - auc: 0.8411 - val_loss: 0.4914 - val_auc: 0.8502\n",
            "Epoch 9/10\n",
            "2381/2381 [==============================] - 76s 32ms/step - loss: 0.4897 - auc: 0.8468 - val_loss: 0.4835 - val_auc: 0.8600\n",
            "Epoch 10/10\n",
            "2381/2381 [==============================] - 76s 32ms/step - loss: 0.4801 - auc: 0.8539 - val_loss: 0.4706 - val_auc: 0.8657\n"
          ]
        },
        {
          "output_type": "execute_result",
          "data": {
            "text/plain": [
              "<keras.callbacks.History at 0x7f03278a78e0>"
            ]
          },
          "metadata": {},
          "execution_count": 57
        }
      ]
    },
    {
      "cell_type": "markdown",
      "source": [
        "## saving predictions results"
      ],
      "metadata": {
        "id": "_z0M3khepyVq"
      }
    },
    {
      "cell_type": "code",
      "source": [
        "y_pred = model.predict(\n",
        "    gen_batch(test_data, batch_size=16, shuffle=False)\n",
        ")\n",
        "y_pred = np.reshape(y_pred, -1)"
      ],
      "metadata": {
        "colab": {
          "base_uri": "https://localhost:8080/"
        },
        "id": "N6I8ILs9puXG",
        "outputId": "d951f507-8bbb-4604-d4b7-73c81ced0b87"
      },
      "execution_count": null,
      "outputs": [
        {
          "output_type": "stream",
          "name": "stdout",
          "text": [
            "771/771 [==============================] - 10s 13ms/step\n"
          ]
        }
      ]
    },
    {
      "cell_type": "code",
      "source": [
        "saveResult(y_pred, 'trial_5.csv')"
      ],
      "metadata": {
        "id": "0V_z0A9Dp3vm"
      },
      "execution_count": null,
      "outputs": []
    },
    {
      "cell_type": "markdown",
      "source": [
        "## Thoughts and observations for trial 5, plan for trial 6:\n",
        "\n",
        "Using the same strcture of the previus model and the only diffrence was only Tuning the model by setting message passing style to RGIN \n",
        "\n",
        "**The results**\n",
        "* Training : 85.39%  \n",
        "* kaggle public score : 81.05%\n",
        "\n",
        "oberservations : The accuracy is slightly better than the previous ine but not the best result .\n",
        "\n",
        "Plans :  try using the same model and upsampled data one more time but this time trying try another `GCN aggregation mechanisms` by tuning the `message_passing mechanisms` and `configure the message passing style to be RGIN` and setting `num_aggr_MLP_hidden_layers` To 2 "
      ],
      "metadata": {
        "id": "jZgaIWYQtrfE"
      }
    },
    {
      "cell_type": "markdown",
      "source": [
        "## Trial_6\n",
        "* Model : GNN \n",
        "* data : upsampled\n",
        "* Hidden_dim : 32\n",
        "* Batch_size : 16\n",
        "* epochs : 10\n",
        "\n",
        "**Tuning**\n",
        "* message_calculation_class : RGIN\n",
        "* num_aggr_MLP_hidden_layers : 2"
      ],
      "metadata": {
        "id": "brVb9W1yuj6O"
      }
    },
    {
      "cell_type": "markdown",
      "source": [
        "# Model"
      ],
      "metadata": {
        "id": "sMsX2Di1vJPI"
      }
    },
    {
      "cell_type": "code",
      "source": [
        "data = keras.Input(batch_shape=(None,))\n",
        "\n",
        "# the first dim is different to the previous one. it is the total number of edges in this batch\n",
        "edge = keras.Input(batch_shape=(None, 2), dtype=tf.int32)\n",
        "node2graph = keras.Input(batch_shape=(None,), dtype=tf.int32)\n",
        "embeded = Embedding(tokenizer.num_words, 20)(data)\n",
        "\n",
        "# number of graphs (number of samples)\n",
        "num_graph = tf.reduce_max(node2graph)+1\n",
        "\n",
        "# declare the GNNInput that take the features of node, the edge, the created list 'node2graph', and number of graphs (number of samples)\n",
        "gnn_input = GNNInput(\n",
        "    node_features = embeded,\n",
        "    adjacency_lists = (edge,),\n",
        "    node_to_graph_map = node2graph, \n",
        "    num_graphs = num_graph,\n",
        ")\n",
        "\n",
        "\n",
        "# configure the hyperparameters of GNN layers\n",
        "# https://github.com/microsoft/tf2-gnn/blob/master/tf2_gnn/layers/gnn.py\n",
        "# \n",
        "# frist load the defualt hyperparameters\n",
        "params = GNN.get_default_hyperparameters()\n",
        "# sets the size of the output of all message passing layers\n",
        "params[\"hidden_dim\"] = 32\n",
        "# configures the message passing style to be RGIN (Relational Graph Isomorphism Networks)\n",
        "params['message_calculation_class'] = 'RGIN'\n",
        "params['num_aggr_MLP_hidden_layers'] = 2\n",
        "\n",
        "# Implements a deep Graph Neural Network\n",
        "gnn_layer = GNN(params)\n",
        "gnn_out = gnn_layer(gnn_input)\n",
        "\n",
        "\n",
        "\n",
        "# Computes the mean along segments of a tensor\n",
        "# https://www.tensorflow.org/api_docs/python/tf/math/segment_mean\n",
        "avg = segment_mean(\n",
        "    data = gnn_out,\n",
        "    segment_ids = node2graph\n",
        ")\n",
        "\n",
        "# Define the out put layer of the model\n",
        "pred = Dense(1, activation='sigmoid')(avg)\n",
        "\n",
        "\n",
        "# Creating the model\n",
        "model = Model(\n",
        "    inputs = {\n",
        "        'data': data,\n",
        "        'edges': edge,\n",
        "        'node2grah': node2graph,\n",
        "    },\n",
        "    outputs = pred\n",
        ")\n",
        "model.summary()\n",
        "     "
      ],
      "metadata": {
        "colab": {
          "base_uri": "https://localhost:8080/"
        },
        "id": "gm8mpPckp4At",
        "outputId": "6cb5f066-d8ad-43fa-baef-65129e3166f5"
      },
      "execution_count": null,
      "outputs": [
        {
          "output_type": "stream",
          "name": "stdout",
          "text": [
            "Model: \"model_5\"\n",
            "__________________________________________________________________________________________________\n",
            " Layer (type)                   Output Shape         Param #     Connected to                     \n",
            "==================================================================================================\n",
            " input_18 (InputLayer)          [(None,)]            0           []                               \n",
            "                                                                                                  \n",
            " input_16 (InputLayer)          [(None,)]            0           []                               \n",
            "                                                                                                  \n",
            " tf.math.reduce_max_5 (TFOpLamb  ()                  0           ['input_18[0][0]']               \n",
            " da)                                                                                              \n",
            "                                                                                                  \n",
            " embedding_5 (Embedding)        (None, 20)           10000       ['input_16[0][0]']               \n",
            "                                                                                                  \n",
            " input_17 (InputLayer)          [(None, 2)]          0           []                               \n",
            "                                                                                                  \n",
            " tf.__operators__.add_5 (TFOpLa  ()                  0           ['tf.math.reduce_max_5[0][0]']   \n",
            " mbda)                                                                                            \n",
            "                                                                                                  \n",
            " gnn_5 (GNN)                    (None, 32)           34752       ['embedding_5[0][0]',            \n",
            "                                                                  'input_17[0][0]',               \n",
            "                                                                  'input_18[0][0]',               \n",
            "                                                                  'tf.__operators__.add_5[0][0]'] \n",
            "                                                                                                  \n",
            " tf.math.segment_mean_5 (TFOpLa  (None, 32)          0           ['gnn_5[0][0]',                  \n",
            " mbda)                                                            'input_18[0][0]']               \n",
            "                                                                                                  \n",
            " dense_5 (Dense)                (None, 1)            33          ['tf.math.segment_mean_5[0][0]'] \n",
            "                                                                                                  \n",
            "==================================================================================================\n",
            "Total params: 44,785\n",
            "Trainable params: 44,785\n",
            "Non-trainable params: 0\n",
            "__________________________________________________________________________________________________\n"
          ]
        }
      ]
    },
    {
      "cell_type": "code",
      "source": [
        "## model compiling\n",
        "model.compile(\n",
        "    loss='BinaryCrossentropy',\n",
        "    metrics=['AUC']\n",
        ")"
      ],
      "metadata": {
        "id": "KZKeSl-HvL5o"
      },
      "execution_count": null,
      "outputs": []
    },
    {
      "cell_type": "markdown",
      "source": [
        "## Fitting the model"
      ],
      "metadata": {
        "id": "fbS7zZ0AvRR_"
      }
    },
    {
      "cell_type": "code",
      "source": [
        "\n",
        "batch_size = 16\n",
        "\n",
        "# calculate steps_per_epoch for training and validation data\n",
        "num_batchs = math.ceil(len(training_set) / batch_size)\n",
        "num_batchs_validation = math.ceil(len(validation_set) / batch_size)\n",
        "\n",
        "model.fit(\n",
        "    gen_batch(\n",
        "        training_set, batch_size=batch_size, repeat=True\n",
        "    ),\n",
        "    steps_per_epoch = num_batchs,\n",
        "    epochs = 10,\n",
        "    validation_data = gen_batch(\n",
        "        validation_set, batch_size=16, repeat=True\n",
        "    ),\n",
        "    validation_steps = num_batchs_validation,\n",
        ")"
      ],
      "metadata": {
        "colab": {
          "base_uri": "https://localhost:8080/"
        },
        "id": "Xyr6JXcOvPit",
        "outputId": "95afc1f0-31a1-48b1-e747-aabff76567d0"
      },
      "execution_count": null,
      "outputs": [
        {
          "output_type": "stream",
          "name": "stdout",
          "text": [
            "Epoch 1/10\n",
            "2381/2381 [==============================] - 85s 33ms/step - loss: 0.6458 - auc: 0.6697 - val_loss: 0.6080 - val_auc: 0.7325\n",
            "Epoch 2/10\n",
            "2381/2381 [==============================] - 71s 30ms/step - loss: 0.6017 - auc: 0.7397 - val_loss: 0.6259 - val_auc: 0.7464\n",
            "Epoch 3/10\n",
            "2381/2381 [==============================] - 65s 27ms/step - loss: 0.5824 - auc: 0.7636 - val_loss: 0.5857 - val_auc: 0.7740\n",
            "Epoch 4/10\n",
            "2381/2381 [==============================] - 66s 28ms/step - loss: 0.5676 - auc: 0.7795 - val_loss: 0.5717 - val_auc: 0.7864\n",
            "Epoch 5/10\n",
            "2381/2381 [==============================] - 69s 29ms/step - loss: 0.5473 - auc: 0.7994 - val_loss: 0.5435 - val_auc: 0.8027\n",
            "Epoch 6/10\n",
            "2381/2381 [==============================] - 66s 28ms/step - loss: 0.5309 - auc: 0.8153 - val_loss: 0.5246 - val_auc: 0.8322\n",
            "Epoch 7/10\n",
            "2381/2381 [==============================] - 67s 28ms/step - loss: 0.5167 - auc: 0.8264 - val_loss: 0.4986 - val_auc: 0.8416\n",
            "Epoch 8/10\n",
            "2381/2381 [==============================] - 66s 28ms/step - loss: 0.5136 - auc: 0.8290 - val_loss: 0.5059 - val_auc: 0.8435\n",
            "Epoch 9/10\n",
            "2381/2381 [==============================] - 71s 30ms/step - loss: 0.5185 - auc: 0.8251 - val_loss: 0.5527 - val_auc: 0.8244\n",
            "Epoch 10/10\n",
            "2381/2381 [==============================] - 65s 27ms/step - loss: 0.5056 - auc: 0.8359 - val_loss: 0.4778 - val_auc: 0.8575\n"
          ]
        },
        {
          "output_type": "execute_result",
          "data": {
            "text/plain": [
              "<keras.callbacks.History at 0x7f032565d3a0>"
            ]
          },
          "metadata": {},
          "execution_count": 63
        }
      ]
    },
    {
      "cell_type": "markdown",
      "source": [
        "## saving predictions results"
      ],
      "metadata": {
        "id": "uGGbaLuvvX9E"
      }
    },
    {
      "cell_type": "code",
      "source": [
        "y_pred = model.predict(\n",
        "    gen_batch(test_data, batch_size=16, shuffle=False)\n",
        ")\n",
        "y_pred = np.reshape(y_pred, -1)"
      ],
      "metadata": {
        "colab": {
          "base_uri": "https://localhost:8080/"
        },
        "id": "Vh_yHILLvVBF",
        "outputId": "2b7a90b0-0ed6-4155-a4a4-7b0099cf6f55"
      },
      "execution_count": null,
      "outputs": [
        {
          "output_type": "stream",
          "name": "stdout",
          "text": [
            "771/771 [==============================] - 8s 10ms/step\n"
          ]
        }
      ]
    },
    {
      "cell_type": "code",
      "source": [
        "saveResult(y_pred, 'trial_6.csv')"
      ],
      "metadata": {
        "id": "OOf2sDbHvbnO"
      },
      "execution_count": null,
      "outputs": []
    },
    {
      "cell_type": "markdown",
      "source": [
        "## Thoughts and observations for trial 6, plan for trial 7:\n",
        "\n",
        "Using the same strcture of the previus model and the only diffrence was only Tuning the model by setting message passing style to GNN_Edge_MLP \n",
        "\n",
        "**The results**\n",
        "* Training : 83.59%  \n",
        "* kaggle public score : 82.35%\n",
        "\n",
        "oberservations : The accuracy is slightly better than the previous ine but not the best result which was achived by [GGNN] .\n",
        "\n",
        "Plans :  try using the same model and upsampled data one more time but this time trying try another `GCN aggregation mechanisms` by tuning the `message_passing mechanisms` and `configure the message passing style to be GNN_Edge_MLP` and Tuning the parameters required by  `GNN_Edge_MLP`"
      ],
      "metadata": {
        "id": "DPitltlKy3tB"
      }
    },
    {
      "cell_type": "markdown",
      "source": [
        "## Trial_7\n",
        "* Model : GNN \n",
        "* data : upsampled\n",
        "* Hidden_dim : 32\n",
        "* Batch_size : 16\n",
        "* epochs : 10\n",
        "\n",
        "**Tuning**\n",
        "* message_calculation_class : GNN_Edge_MLP\n",
        "* and adjusting it's hyperparameters"
      ],
      "metadata": {
        "id": "ePXgk47Yzeq5"
      }
    },
    {
      "cell_type": "markdown",
      "source": [
        "# Model"
      ],
      "metadata": {
        "id": "alQsDG2gsnea"
      }
    },
    {
      "cell_type": "code",
      "source": [
        "data = keras.Input(batch_shape=(None,))\n",
        "\n",
        "# the first dim is different to the previous one. it is the total number of edges in this batch\n",
        "edge = keras.Input(batch_shape=(None, 2), dtype=tf.int32)\n",
        "node2graph = keras.Input(batch_shape=(None,), dtype=tf.int32)\n",
        "embeded = Embedding(tokenizer.num_words, 20)(data)\n",
        "\n",
        "# number of graphs (number of samples)\n",
        "num_graph = tf.reduce_max(node2graph)+1\n",
        "\n",
        "# declare the GNNInput that take the features of node, the edge, the created list 'node2graph', and number of graphs (number of samples)\n",
        "gnn_input = GNNInput(\n",
        "    node_features = embeded,\n",
        "    adjacency_lists = (edge,),\n",
        "    node_to_graph_map = node2graph, \n",
        "    num_graphs = num_graph,\n",
        ")\n",
        "\n",
        "\n",
        "# configure the hyperparameters of GNN layers\n",
        "# https://github.com/microsoft/tf2-gnn/blob/master/tf2_gnn/layers/gnn.py\n",
        "# \n",
        "# frist load the defualt hyperparameters of GNN_Edge_MLP\n",
        "params = GNN_Edge_MLP.get_default_hyperparameters()\n",
        "# sets the size of the output of all message passing layers\n",
        "params[\"hidden_dim\"] = 32\n",
        "\n",
        "# configuring the parameters that needed by GNN_Edge_MLP\n",
        "params['num_layers'] = 4\n",
        "params['dense_every_num_layers'] = 2\n",
        "params['residual_every_num_layers'] = 2\n",
        "params['use_inter_layer_layernorm'] = 2\n",
        "params['initial_node_representation_activation'] = 'tanh'\n",
        "params['dense_intermediate_layer_activation'] = 'tanh'\n",
        "params['message_calculation_class'] = 'RGCN'\n",
        "params['global_exchange_mode'] = 'gru'   \n",
        "params['global_exchange_every_num_layers'] = 1000\n",
        "params['global_exchange_weighting_fun'] = 'softmax'\n",
        "params['global_exchange_num_heads'] = 4\n",
        "params['global_exchange_dropout_rate'] = 0.2\n",
        "params['layer_input_dropout_rate'] = 0.2\n",
        "\n",
        "# Implements a deep Graph Neural Network\n",
        "gnn_layer = GNN(params)\n",
        "gnn_out = gnn_layer(gnn_input)\n",
        "\n",
        "\n",
        "\n",
        "# Computes the mean along segments of a tensor\n",
        "# https://www.tensorflow.org/api_docs/python/tf/math/segment_mean\n",
        "avg = segment_mean(\n",
        "    data = gnn_out,\n",
        "    segment_ids = node2graph\n",
        ")\n",
        "\n",
        "# Define the out put layer of the model\n",
        "pred = Dense(1, activation='sigmoid')(avg)\n",
        "\n",
        "\n",
        "# Creating the model\n",
        "model = Model(\n",
        "    inputs = {\n",
        "        'data': data,\n",
        "        'edges': edge,\n",
        "        'node2grah': node2graph,\n",
        "    },\n",
        "    outputs = pred\n",
        ")\n",
        "model.summary()"
      ],
      "metadata": {
        "id": "H1xDQQmlveai",
        "colab": {
          "base_uri": "https://localhost:8080/"
        },
        "outputId": "190bc166-0734-4893-9e87-a2d21873e3ed"
      },
      "execution_count": 28,
      "outputs": [
        {
          "output_type": "stream",
          "name": "stdout",
          "text": [
            "Model: \"model\"\n",
            "__________________________________________________________________________________________________\n",
            " Layer (type)                   Output Shape         Param #     Connected to                     \n",
            "==================================================================================================\n",
            " input_6 (InputLayer)           [(None,)]            0           []                               \n",
            "                                                                                                  \n",
            " input_4 (InputLayer)           [(None,)]            0           []                               \n",
            "                                                                                                  \n",
            " tf.math.reduce_max (TFOpLambda  ()                  0           ['input_6[0][0]']                \n",
            " )                                                                                                \n",
            "                                                                                                  \n",
            " embedding (Embedding)          (None, 20)           10000       ['input_4[0][0]']                \n",
            "                                                                                                  \n",
            " input_5 (InputLayer)           [(None, 2)]          0           []                               \n",
            "                                                                                                  \n",
            " tf.__operators__.add (TFOpLamb  ()                  0           ['tf.math.reduce_max[0][0]']     \n",
            " da)                                                                                              \n",
            "                                                                                                  \n",
            " gnn (GNN)                      (None, 32)           15232       ['embedding[0][0]',              \n",
            "                                                                  'input_5[0][0]',                \n",
            "                                                                  'input_6[0][0]',                \n",
            "                                                                  'tf.__operators__.add[0][0]']   \n",
            "                                                                                                  \n",
            " tf.math.segment_mean (TFOpLamb  (None, 32)          0           ['gnn[0][0]',                    \n",
            " da)                                                              'input_6[0][0]']                \n",
            "                                                                                                  \n",
            " dense (Dense)                  (None, 1)            33          ['tf.math.segment_mean[0][0]']   \n",
            "                                                                                                  \n",
            "==================================================================================================\n",
            "Total params: 25,265\n",
            "Trainable params: 25,265\n",
            "Non-trainable params: 0\n",
            "__________________________________________________________________________________________________\n"
          ]
        }
      ]
    },
    {
      "cell_type": "code",
      "source": [
        "## model compiling\n",
        "model.compile(\n",
        "    loss='BinaryCrossentropy',\n",
        "    metrics=['AUC']\n",
        ")"
      ],
      "metadata": {
        "id": "GXJfPQKqsz_6"
      },
      "execution_count": 29,
      "outputs": []
    },
    {
      "cell_type": "markdown",
      "source": [
        "## model fitting"
      ],
      "metadata": {
        "id": "eFKNgGBCtF4u"
      }
    },
    {
      "cell_type": "code",
      "source": [
        "batch_size = 16\n",
        "\n",
        "# calculate steps_per_epoch for training and validation data\n",
        "num_batchs = math.ceil(len(training_set) / batch_size)\n",
        "num_batchs_validation = math.ceil(len(validation_set) / batch_size)\n",
        "\n",
        "# training the model for 5 epochs\n",
        "model.fit(\n",
        "    gen_batch(\n",
        "        training_set, batch_size=batch_size, repeat=True\n",
        "    ),\n",
        "    steps_per_epoch = num_batchs,\n",
        "    epochs = 10,\n",
        "    validation_data = gen_batch(\n",
        "        validation_set, batch_size=16, repeat=True\n",
        "    ),\n",
        "    validation_steps = num_batchs_validation,\n",
        ")\n"
      ],
      "metadata": {
        "colab": {
          "base_uri": "https://localhost:8080/"
        },
        "id": "X-P19b8MtEf7",
        "outputId": "27a2c0eb-90da-4e02-836a-4e28fcb23ae2"
      },
      "execution_count": 30,
      "outputs": [
        {
          "output_type": "stream",
          "name": "stdout",
          "text": [
            "Epoch 1/10\n",
            "2381/2381 [==============================] - 89s 36ms/step - loss: 0.6156 - auc: 0.7198 - val_loss: 0.5704 - val_auc: 0.7704\n",
            "Epoch 2/10\n",
            "2381/2381 [==============================] - 74s 31ms/step - loss: 0.5678 - auc: 0.7800 - val_loss: 0.5518 - val_auc: 0.7955\n",
            "Epoch 3/10\n",
            "2381/2381 [==============================] - 73s 31ms/step - loss: 0.5534 - auc: 0.7966 - val_loss: 0.5310 - val_auc: 0.8152\n",
            "Epoch 4/10\n",
            "2381/2381 [==============================] - 66s 28ms/step - loss: 0.5411 - auc: 0.8103 - val_loss: 0.5226 - val_auc: 0.8223\n",
            "Epoch 5/10\n",
            "2381/2381 [==============================] - 75s 32ms/step - loss: 0.5293 - auc: 0.8197 - val_loss: 0.5098 - val_auc: 0.8348\n",
            "Epoch 6/10\n",
            "2381/2381 [==============================] - 57s 24ms/step - loss: 0.5210 - auc: 0.8269 - val_loss: 0.5048 - val_auc: 0.8443\n",
            "Epoch 7/10\n",
            "2381/2381 [==============================] - 63s 26ms/step - loss: 0.5117 - auc: 0.8351 - val_loss: 0.5012 - val_auc: 0.8495\n",
            "Epoch 8/10\n",
            "2381/2381 [==============================] - 64s 27ms/step - loss: 0.5080 - auc: 0.8375 - val_loss: 0.4815 - val_auc: 0.8552\n",
            "Epoch 9/10\n",
            "2381/2381 [==============================] - 60s 25ms/step - loss: 0.4989 - auc: 0.8442 - val_loss: 0.4798 - val_auc: 0.8567\n",
            "Epoch 10/10\n",
            "2381/2381 [==============================] - 70s 29ms/step - loss: 0.4964 - auc: 0.8466 - val_loss: 0.4855 - val_auc: 0.8596\n"
          ]
        },
        {
          "output_type": "execute_result",
          "data": {
            "text/plain": [
              "<keras.callbacks.History at 0x7f3f259bf310>"
            ]
          },
          "metadata": {},
          "execution_count": 30
        }
      ]
    },
    {
      "cell_type": "markdown",
      "source": [
        "## saving predictions results"
      ],
      "metadata": {
        "id": "qnoTPKvCtM5w"
      }
    },
    {
      "cell_type": "code",
      "source": [
        "y_pred = model.predict(\n",
        "    gen_batch(test_data, batch_size=16, shuffle=False)\n",
        ")\n",
        "y_pred = np.reshape(y_pred, -1)"
      ],
      "metadata": {
        "colab": {
          "base_uri": "https://localhost:8080/"
        },
        "id": "xxF608IntJRB",
        "outputId": "2eebdb2b-50f8-4861-85f7-09848812c04f"
      },
      "execution_count": 31,
      "outputs": [
        {
          "output_type": "stream",
          "name": "stdout",
          "text": [
            "771/771 [==============================] - 6s 7ms/step\n"
          ]
        }
      ]
    },
    {
      "cell_type": "code",
      "source": [
        "saveResult(y_pred, 'trial_7.csv')"
      ],
      "metadata": {
        "id": "P_-OyQGgtRuk"
      },
      "execution_count": 32,
      "outputs": []
    },
    {
      "cell_type": "markdown",
      "source": [
        "## Thoughts and observations for trial 7, plan for trial 8:\n",
        "\n",
        "Using the same strcture of the previus model and the only diffrence was only Tuning the model by setting message passing style to GNN_FiLM \n",
        "\n",
        "**The results**\n",
        "* Training : 84.66%  \n",
        "* kaggle public score : 85.20%\n",
        "\n",
        "oberservations : The accuracy is slightly better than the previous ine but not the best result which was achived by [GGNN] .\n",
        "\n",
        "Plans :  try using the same model and upsampled data one more time but this time trying try another `GCN aggregation mechanisms` by tuning the `message_passing mechanisms` and `configure the message passing style to be GNN_FiLM` and Tuning the parameters required by  `GNN_FiLM`"
      ],
      "metadata": {
        "id": "TlOHB4doxQmC"
      }
    },
    {
      "cell_type": "markdown",
      "source": [
        "## Trial_8\n",
        "* Model : GNN \n",
        "* data : upsampled\n",
        "* Hidden_dim : 32\n",
        "* Batch_size : 16\n",
        "* epochs : 10\n",
        "\n",
        "**Tuning**\n",
        "* message_calculation_class : GNN_FiLM\n",
        "* and adjusting it's hyperparameters"
      ],
      "metadata": {
        "id": "jhD49QMfxv3J"
      }
    },
    {
      "cell_type": "markdown",
      "source": [
        "# Model"
      ],
      "metadata": {
        "id": "jEHLvl8nx2t1"
      }
    },
    {
      "cell_type": "code",
      "source": [
        "data = keras.Input(batch_shape=(None,))\n",
        "\n",
        "# the first dim is different to the previous one. it is the total number of edges in this batch\n",
        "edge = keras.Input(batch_shape=(None, 2), dtype=tf.int32)\n",
        "node2graph = keras.Input(batch_shape=(None,), dtype=tf.int32)\n",
        "embeded = Embedding(tokenizer.num_words, 20)(data)\n",
        "\n",
        "# number of graphs (number of samples)\n",
        "num_graph = tf.reduce_max(node2graph)+1\n",
        "\n",
        "# declare the GNNInput that take the features of node, the edge, the created list 'node2graph', and number of graphs (number of samples)\n",
        "gnn_input = GNNInput(\n",
        "    node_features = embeded,\n",
        "    adjacency_lists = (edge,),\n",
        "    node_to_graph_map = node2graph, \n",
        "    num_graphs = num_graph,\n",
        ")\n",
        "\n",
        "\n",
        "# configure the hyperparameters of GNN layers\n",
        "# https://github.com/microsoft/tf2-gnn/blob/master/tf2_gnn/layers/gnn.py\n",
        "# \n",
        "# frist load the defualt hyperparameters of GNN_FiLM\n",
        "params = GNN_FiLM.get_default_hyperparameters()\n",
        "# sets the size of the output of all message passing layers\n",
        "params[\"hidden_dim\"] = 32\n",
        "# configures the parameters that needed by GNN_FiLM\n",
        "params['num_layers'] = 4\n",
        "params['dense_every_num_layers'] = 2\n",
        "params['residual_every_num_layers'] = 2\n",
        "params['use_inter_layer_layernorm'] = 2\n",
        "params['initial_node_representation_activation'] = 'tanh'\n",
        "params['dense_intermediate_layer_activation'] = 'tanh'\n",
        "params['message_calculation_class'] = 'RGCN'\n",
        "params['global_exchange_mode'] = 'gru'   # has to be one of 'mean', 'mlp', 'gru'!\n",
        "params['global_exchange_every_num_layers'] = 1000\n",
        "params['global_exchange_weighting_fun'] = 'softmax'\n",
        "params['global_exchange_num_heads'] = 4\n",
        "params['global_exchange_dropout_rate'] = 0.2\n",
        "params['layer_input_dropout_rate'] = 0.2\n",
        "\n",
        "# Implements a deep Graph Neural Network\n",
        "gnn_layer = GNN(params)\n",
        "gnn_out = gnn_layer(gnn_input)\n",
        "\n",
        "\n",
        "\n",
        "# Computes the mean along segments of a tensor\n",
        "# https://www.tensorflow.org/api_docs/python/tf/math/segment_mean\n",
        "avg = segment_mean(\n",
        "    data = gnn_out,\n",
        "    segment_ids = node2graph\n",
        ")\n",
        "\n",
        "# Define the out put layer of the model\n",
        "pred = Dense(1, activation='sigmoid')(avg)\n",
        "\n",
        "\n",
        "# Creating the model\n",
        "model = Model(\n",
        "    inputs = {\n",
        "        'data': data,\n",
        "        'edges': edge,\n",
        "        'node2grah': node2graph,\n",
        "    },\n",
        "    outputs = pred\n",
        ")\n",
        "model.summary()"
      ],
      "metadata": {
        "colab": {
          "base_uri": "https://localhost:8080/"
        },
        "id": "8ftdqEfYtVHH",
        "outputId": "f31a6517-24aa-4593-fda4-481a0f48eaaf"
      },
      "execution_count": 33,
      "outputs": [
        {
          "output_type": "stream",
          "name": "stdout",
          "text": [
            "Model: \"model_1\"\n",
            "__________________________________________________________________________________________________\n",
            " Layer (type)                   Output Shape         Param #     Connected to                     \n",
            "==================================================================================================\n",
            " input_9 (InputLayer)           [(None,)]            0           []                               \n",
            "                                                                                                  \n",
            " input_7 (InputLayer)           [(None,)]            0           []                               \n",
            "                                                                                                  \n",
            " tf.math.reduce_max_1 (TFOpLamb  ()                  0           ['input_9[0][0]']                \n",
            " da)                                                                                              \n",
            "                                                                                                  \n",
            " embedding_1 (Embedding)        (None, 20)           10000       ['input_7[0][0]']                \n",
            "                                                                                                  \n",
            " input_8 (InputLayer)           [(None, 2)]          0           []                               \n",
            "                                                                                                  \n",
            " tf.__operators__.add_1 (TFOpLa  ()                  0           ['tf.math.reduce_max_1[0][0]']   \n",
            " mbda)                                                                                            \n",
            "                                                                                                  \n",
            " gnn_1 (GNN)                    (None, 32)           7040        ['embedding_1[0][0]',            \n",
            "                                                                  'input_8[0][0]',                \n",
            "                                                                  'input_9[0][0]',                \n",
            "                                                                  'tf.__operators__.add_1[0][0]'] \n",
            "                                                                                                  \n",
            " tf.math.segment_mean_1 (TFOpLa  (None, 32)          0           ['gnn_1[0][0]',                  \n",
            " mbda)                                                            'input_9[0][0]']                \n",
            "                                                                                                  \n",
            " dense_1 (Dense)                (None, 1)            33          ['tf.math.segment_mean_1[0][0]'] \n",
            "                                                                                                  \n",
            "==================================================================================================\n",
            "Total params: 17,073\n",
            "Trainable params: 17,073\n",
            "Non-trainable params: 0\n",
            "__________________________________________________________________________________________________\n"
          ]
        }
      ]
    },
    {
      "cell_type": "code",
      "source": [
        "## compiling model\n",
        "model.compile(\n",
        "    loss='BinaryCrossentropy',\n",
        "    metrics=['AUC']\n",
        ")"
      ],
      "metadata": {
        "id": "U3rAhvvGx6Ih"
      },
      "execution_count": 34,
      "outputs": []
    },
    {
      "cell_type": "markdown",
      "source": [
        "## Model Fitting"
      ],
      "metadata": {
        "id": "LS_7huoXx_rB"
      }
    },
    {
      "cell_type": "code",
      "source": [
        "batch_size = 16\n",
        "\n",
        "# calculate steps_per_epoch for training and validation data\n",
        "num_batchs = math.ceil(len(training_set) / batch_size)\n",
        "num_batchs_validation = math.ceil(len(validation_set) / batch_size)\n",
        "\n",
        "\n",
        "model.fit(\n",
        "    gen_batch(\n",
        "        training_set, batch_size=batch_size, repeat=True\n",
        "    ),\n",
        "    steps_per_epoch = num_batchs,\n",
        "    epochs = 10,\n",
        "    validation_data = gen_batch(\n",
        "        validation_set, batch_size=16, repeat=True\n",
        "    ),\n",
        "    validation_steps = num_batchs_validation,\n",
        ")"
      ],
      "metadata": {
        "colab": {
          "base_uri": "https://localhost:8080/"
        },
        "id": "yCCeIg0qx-0f",
        "outputId": "f35cd5b6-e369-4c89-b952-6c658babc5ac"
      },
      "execution_count": 36,
      "outputs": [
        {
          "output_type": "stream",
          "name": "stdout",
          "text": [
            "Epoch 1/10\n",
            "2381/2381 [==============================] - 54s 23ms/step - loss: 0.6125 - auc: 0.7280 - val_loss: 0.5902 - val_auc: 0.7504\n",
            "Epoch 2/10\n",
            "2381/2381 [==============================] - 60s 25ms/step - loss: 0.5940 - auc: 0.7525 - val_loss: 0.5769 - val_auc: 0.7657\n",
            "Epoch 3/10\n",
            "2381/2381 [==============================] - 52s 22ms/step - loss: 0.5826 - auc: 0.7652 - val_loss: 0.5575 - val_auc: 0.7898\n",
            "Epoch 4/10\n",
            "2381/2381 [==============================] - 60s 25ms/step - loss: 0.5761 - auc: 0.7735 - val_loss: 0.5547 - val_auc: 0.7947\n",
            "Epoch 5/10\n",
            "2381/2381 [==============================] - 53s 22ms/step - loss: 0.5697 - auc: 0.7801 - val_loss: 0.5485 - val_auc: 0.7997\n",
            "Epoch 6/10\n",
            "2381/2381 [==============================] - 56s 24ms/step - loss: 0.5603 - auc: 0.7912 - val_loss: 0.5402 - val_auc: 0.8063\n",
            "Epoch 7/10\n",
            "2381/2381 [==============================] - 51s 22ms/step - loss: 0.5581 - auc: 0.7949 - val_loss: 0.5552 - val_auc: 0.8117\n",
            "Epoch 8/10\n",
            "2381/2381 [==============================] - 61s 25ms/step - loss: 0.5545 - auc: 0.7987 - val_loss: 0.5343 - val_auc: 0.8143\n",
            "Epoch 9/10\n",
            "2381/2381 [==============================] - 53s 22ms/step - loss: 0.5514 - auc: 0.8003 - val_loss: 0.5281 - val_auc: 0.8187\n",
            "Epoch 10/10\n",
            "2381/2381 [==============================] - 53s 22ms/step - loss: 0.5484 - auc: 0.8038 - val_loss: 0.5268 - val_auc: 0.8246\n"
          ]
        },
        {
          "output_type": "execute_result",
          "data": {
            "text/plain": [
              "<keras.callbacks.History at 0x7f3f11cb98a0>"
            ]
          },
          "metadata": {},
          "execution_count": 36
        }
      ]
    },
    {
      "cell_type": "markdown",
      "source": [
        "## saving predictions results\n",
        "\n",
        "\n"
      ],
      "metadata": {
        "id": "fIEgf5UAyIZF"
      }
    },
    {
      "cell_type": "code",
      "source": [
        "y_pred = model.predict(\n",
        "    gen_batch(test_data, batch_size=16, shuffle=False)\n",
        ")\n",
        "y_pred = np.reshape(y_pred, -1)"
      ],
      "metadata": {
        "colab": {
          "base_uri": "https://localhost:8080/"
        },
        "id": "-LvtzmCOyD6_",
        "outputId": "1bb3f607-9cb1-48e9-9814-2749f4644f17"
      },
      "execution_count": 37,
      "outputs": [
        {
          "output_type": "stream",
          "name": "stdout",
          "text": [
            "771/771 [==============================] - 8s 10ms/step\n"
          ]
        }
      ]
    },
    {
      "cell_type": "code",
      "source": [
        "saveResult(y_pred, 'trial_8.csv')"
      ],
      "metadata": {
        "id": "W3ChP0etyLr6"
      },
      "execution_count": 38,
      "outputs": []
    },
    {
      "cell_type": "markdown",
      "source": [
        "## Thoughts and observations for trial 8, plan for trial 9:\n",
        "\n",
        "Using the same strcture of the previus model and the only diffrence was only Tuning the model by setting message passing style to GNN_FiLM \n",
        "\n",
        "**The results**\n",
        "* Training : 80.38%  \n",
        "* kaggle public score : 81.58%\n",
        "\n",
        "oberservations : Since i have applied all the possible GCN `message_passing_mechanisims` in the previous 8 trials the best results ahcived so far was by :  \n",
        "* Trial_3  with kaggle public score of 86.60%\n",
        "* Trial_7  with kaggle public score of  85.20%\n",
        "\n",
        "Plans :  In the last 2 trials try to adjust the hyperparameters for these model in order to get a better accuracy out of them."
      ],
      "metadata": {
        "id": "v7eLkDVD1AHH"
      }
    },
    {
      "cell_type": "markdown",
      "source": [
        "## Trial_9\n",
        "* Model : GNN \n",
        "* data : upsampled\n",
        "* Hidden_dim : 62 [was 32]\n",
        "* Batch_size : 16\n",
        "* epochs : 10\n",
        "\n",
        "**Tuning**\n",
        "* message_calculation_class : GCNN [Trial_3 Tuning]\n"
      ],
      "metadata": {
        "id": "CDJI9cDa2xOO"
      }
    },
    {
      "cell_type": "markdown",
      "source": [
        "# Model"
      ],
      "metadata": {
        "id": "tsROFlhm3Azo"
      }
    },
    {
      "cell_type": "code",
      "source": [
        "data = keras.Input(batch_shape=(None,))\n",
        "\n",
        "# the first dim is different to the previous one. it is the total number of edges in this batch\n",
        "edge = keras.Input(batch_shape=(None, 2), dtype=tf.int32)\n",
        "node2graph = keras.Input(batch_shape=(None,), dtype=tf.int32)\n",
        "embeded = Embedding(tokenizer.num_words, 20)(data)\n",
        "\n",
        "# number of graphs (number of samples)\n",
        "num_graph = tf.reduce_max(node2graph)+1\n",
        "\n",
        "# declare the GNNInput that take the features of node, the edge, the created list 'node2graph', and number of graphs (number of samples)\n",
        "gnn_input = GNNInput(\n",
        "    node_features=embeded,\n",
        "    adjacency_lists=(edge,),\n",
        "    node_to_graph_map=node2graph, \n",
        "    num_graphs=num_graph,\n",
        ")\n",
        "\n",
        "\n",
        "# configure the hyperparameters of GNN layers\n",
        "# https://github.com/microsoft/tf2-gnn/blob/master/tf2_gnn/layers/gnn.py\n",
        "# \n",
        "# frist load the defualt hyperparameters\n",
        "params = GNN.get_default_hyperparameters()\n",
        "# sets the size of the output of all message passing layers\n",
        "params[\"hidden_dim\"] = 64\n",
        "# configures the message passing style to be GGNN (Gated Graph Neural Networks)\n",
        "params['message_calculation_class'] = 'GGNN'\n",
        "\n",
        "# Implements a deep Graph Neural Network\n",
        "gnn_layer = GNN(params)\n",
        "gnn_out = gnn_layer(gnn_input)\n",
        "\n",
        "\n",
        "\n",
        "# Computes the mean along segments of a tensor\n",
        "avg = segment_mean(\n",
        "    data = gnn_out,\n",
        "    segment_ids = node2graph\n",
        ")\n",
        "\n",
        "# Define the out put layer of the model\n",
        "pred = Dense(1, activation='sigmoid')(avg)\n",
        "\n",
        "\n",
        "# Creating the model\n",
        "model = Model(\n",
        "    inputs={\n",
        "        'data': data,\n",
        "        'edges': edge,\n",
        "        'node2grah': node2graph,\n",
        "    },\n",
        "    outputs = pred\n",
        ")\n",
        "model.summary()"
      ],
      "metadata": {
        "colab": {
          "base_uri": "https://localhost:8080/"
        },
        "id": "hbHxfgaEyQZC",
        "outputId": "400371e6-6b76-437b-fc79-db87c928e2a9"
      },
      "execution_count": 39,
      "outputs": [
        {
          "output_type": "stream",
          "name": "stdout",
          "text": [
            "Model: \"model_2\"\n",
            "__________________________________________________________________________________________________\n",
            " Layer (type)                   Output Shape         Param #     Connected to                     \n",
            "==================================================================================================\n",
            " input_12 (InputLayer)          [(None,)]            0           []                               \n",
            "                                                                                                  \n",
            " input_10 (InputLayer)          [(None,)]            0           []                               \n",
            "                                                                                                  \n",
            " tf.math.reduce_max_2 (TFOpLamb  ()                  0           ['input_12[0][0]']               \n",
            " da)                                                                                              \n",
            "                                                                                                  \n",
            " embedding_2 (Embedding)        (None, 20)           10000       ['input_10[0][0]']               \n",
            "                                                                                                  \n",
            " input_11 (InputLayer)          [(None, 2)]          0           []                               \n",
            "                                                                                                  \n",
            " tf.__operators__.add_2 (TFOpLa  ()                  0           ['tf.math.reduce_max_2[0][0]']   \n",
            " mbda)                                                                                            \n",
            "                                                                                                  \n",
            " gnn_2 (GNN)                    (None, 64)           171392      ['embedding_2[0][0]',            \n",
            "                                                                  'input_11[0][0]',               \n",
            "                                                                  'input_12[0][0]',               \n",
            "                                                                  'tf.__operators__.add_2[0][0]'] \n",
            "                                                                                                  \n",
            " tf.math.segment_mean_2 (TFOpLa  (None, 64)          0           ['gnn_2[0][0]',                  \n",
            " mbda)                                                            'input_12[0][0]']               \n",
            "                                                                                                  \n",
            " dense_2 (Dense)                (None, 1)            65          ['tf.math.segment_mean_2[0][0]'] \n",
            "                                                                                                  \n",
            "==================================================================================================\n",
            "Total params: 181,457\n",
            "Trainable params: 181,457\n",
            "Non-trainable params: 0\n",
            "__________________________________________________________________________________________________\n"
          ]
        }
      ]
    },
    {
      "cell_type": "code",
      "source": [
        "# compiling the model\n",
        "model.compile(\n",
        "    loss='BinaryCrossentropy',\n",
        "    metrics=['AUC']\n",
        ")"
      ],
      "metadata": {
        "id": "GBXSX_I13E-n"
      },
      "execution_count": 40,
      "outputs": []
    },
    {
      "cell_type": "markdown",
      "source": [
        "# Model Fitting"
      ],
      "metadata": {
        "id": "y2J49Gqd3JE1"
      }
    },
    {
      "cell_type": "code",
      "source": [
        "batch_size = 16\n",
        "\n",
        "# calculate steps_per_epoch for training and validation data\n",
        "num_batchs = math.ceil(len(training_set) / batch_size)\n",
        "num_batchs_validation = math.ceil(len(validation_set) / batch_size)\n",
        "\n",
        "\n",
        "model.fit(\n",
        "    gen_batch(\n",
        "        training_set, batch_size=batch_size, repeat=True\n",
        "    ),\n",
        "    steps_per_epoch = num_batchs,\n",
        "    epochs = 10,\n",
        "    validation_data = gen_batch(\n",
        "        validation_set, batch_size=16, repeat=True\n",
        "    ),\n",
        "    validation_steps = num_batchs_validation,\n",
        ")"
      ],
      "metadata": {
        "colab": {
          "base_uri": "https://localhost:8080/"
        },
        "id": "Y_E-i_533M6-",
        "outputId": "59e04ea6-b31f-49e5-a88d-ea8633a63587"
      },
      "execution_count": 41,
      "outputs": [
        {
          "output_type": "stream",
          "name": "stdout",
          "text": [
            "Epoch 1/10\n",
            "2381/2381 [==============================] - 185s 73ms/step - loss: 0.6321 - auc: 0.6936 - val_loss: 0.5867 - val_auc: 0.7472\n",
            "Epoch 2/10\n",
            "2381/2381 [==============================] - 182s 76ms/step - loss: 0.5701 - auc: 0.7728 - val_loss: 0.5441 - val_auc: 0.8020\n",
            "Epoch 3/10\n",
            "2381/2381 [==============================] - 170s 71ms/step - loss: 0.5323 - auc: 0.8108 - val_loss: 0.5185 - val_auc: 0.8224\n",
            "Epoch 4/10\n",
            "2381/2381 [==============================] - 142s 60ms/step - loss: 0.4959 - auc: 0.8404 - val_loss: 0.4964 - val_auc: 0.8503\n",
            "Epoch 5/10\n",
            "2381/2381 [==============================] - 144s 61ms/step - loss: 0.4656 - auc: 0.8622 - val_loss: 0.4492 - val_auc: 0.8754\n",
            "Epoch 6/10\n",
            "2381/2381 [==============================] - 137s 58ms/step - loss: 0.4286 - auc: 0.8848 - val_loss: 0.4046 - val_auc: 0.8985\n",
            "Epoch 7/10\n",
            "2381/2381 [==============================] - 137s 58ms/step - loss: 0.4006 - auc: 0.9002 - val_loss: 0.3801 - val_auc: 0.9109\n",
            "Epoch 8/10\n",
            "2381/2381 [==============================] - 149s 62ms/step - loss: 0.3734 - auc: 0.9138 - val_loss: 0.3798 - val_auc: 0.9161\n",
            "Epoch 9/10\n",
            "2381/2381 [==============================] - 136s 57ms/step - loss: 0.3534 - auc: 0.9226 - val_loss: 0.3324 - val_auc: 0.9318\n",
            "Epoch 10/10\n",
            "2381/2381 [==============================] - 138s 58ms/step - loss: 0.3320 - auc: 0.9315 - val_loss: 0.3136 - val_auc: 0.9460\n"
          ]
        },
        {
          "output_type": "execute_result",
          "data": {
            "text/plain": [
              "<keras.callbacks.History at 0x7f3f13e59a50>"
            ]
          },
          "metadata": {},
          "execution_count": 41
        }
      ]
    },
    {
      "cell_type": "markdown",
      "source": [
        "## saving predictions results"
      ],
      "metadata": {
        "id": "pO6IA6nb3UT7"
      }
    },
    {
      "cell_type": "code",
      "source": [
        "y_pred = model.predict(\n",
        "    gen_batch(test_data, batch_size=16, shuffle=False)\n",
        ")\n",
        "y_pred = np.reshape(y_pred, -1)"
      ],
      "metadata": {
        "colab": {
          "base_uri": "https://localhost:8080/"
        },
        "id": "ojDu43jJ3aQj",
        "outputId": "2b2c327e-2506-4b98-8e83-9c0a81d1ebed"
      },
      "execution_count": 42,
      "outputs": [
        {
          "output_type": "stream",
          "name": "stdout",
          "text": [
            "771/771 [==============================] - 14s 17ms/step\n"
          ]
        }
      ]
    },
    {
      "cell_type": "code",
      "source": [
        "saveResult(y_pred, 'trial_9.csv')"
      ],
      "metadata": {
        "id": "85ph_JHY3aBT"
      },
      "execution_count": 43,
      "outputs": []
    },
    {
      "cell_type": "markdown",
      "source": [
        "## Thoughts and observations for trial 9, plan for trial 10:\n",
        "\n",
        "Using the same strcture of the previus model and the only diffrence was only Tuning the model by setting message passing style to GCNN and tuning its hyperparameter\n",
        "\n",
        "**The results**\n",
        "* Training : 93.15%  \n",
        "* kaggle public score : 84.13%\n",
        "\n",
        "oberservations : The results of the Third Trial was slightly better\n",
        "\n",
        "Plans :  Tuning the hyperparamters for the 7nth Trial."
      ],
      "metadata": {
        "id": "Y9YrUG-F3weX"
      }
    },
    {
      "cell_type": "markdown",
      "source": [
        "## Trial_10\n",
        "* Model : GNN \n",
        "* data : upsampled\n",
        "* Hidden_dim : 64 [was 32]\n",
        "* Batch_size : 16\n",
        "* epochs : 10\n",
        "\n",
        "**Tuning**\n",
        "* message_calculation_class : GNN_Edge_MLP [Trial_7 Tuning]\n",
        "* global_exchange_mode : 'mlp' [was 'gru']\n",
        "* layer_input_dropout_rate : 0.1 [was '0.2']\n"
      ],
      "metadata": {
        "id": "6EmE_AJw4GDO"
      }
    },
    {
      "cell_type": "markdown",
      "source": [
        "# Model"
      ],
      "metadata": {
        "id": "7TI3aLc_4hkT"
      }
    },
    {
      "cell_type": "code",
      "source": [
        "\n",
        "data = keras.Input(batch_shape=(None,))\n",
        "\n",
        "# the first dim is different to the previous one. it is the total number of edges in this batch\n",
        "edge = keras.Input(batch_shape=(None, 2), dtype=tf.int32)\n",
        "node2graph = keras.Input(batch_shape=(None,), dtype=tf.int32)\n",
        "embeded = Embedding(tokenizer.num_words, 20)(data)\n",
        "\n",
        "# number of graphs (number of samples)\n",
        "num_graph = tf.reduce_max(node2graph)+1\n",
        "\n",
        "# declare the GNNInput that take the features of node, the edge, the created list 'node2graph', and number of graphs (number of samples)\n",
        "gnn_input = GNNInput(\n",
        "    node_features = embeded,\n",
        "    adjacency_lists = (edge,),\n",
        "    node_to_graph_map = node2graph, \n",
        "    num_graphs = num_graph,\n",
        ")\n",
        "\n",
        "\n",
        "# configure the hyperparameters of GNN layers\n",
        "# https://github.com/microsoft/tf2-gnn/blob/master/tf2_gnn/layers/gnn.py\n",
        "# \n",
        "# frist load the defualt hyperparameters of GNN_Edge_MLP\n",
        "params = GNN_Edge_MLP.get_default_hyperparameters()\n",
        "# sets the size of the output of all message passing layers\n",
        "params[\"hidden_dim\"] = 64\n",
        "# configures the parameters that needed by GNN_Edge_MLP\n",
        "params['num_layers'] = 4\n",
        "params['dense_every_num_layers'] = 2\n",
        "params['residual_every_num_layers'] = 2\n",
        "params['use_inter_layer_layernorm'] = 2\n",
        "params['initial_node_representation_activation'] = 'tanh'\n",
        "params['dense_intermediate_layer_activation'] = 'tanh'\n",
        "params['message_calculation_class'] = 'RGCN'\n",
        "params['global_exchange_mode'] = 'mlp'   # has to be one of 'mean', 'mlp', 'gru'!\n",
        "params['global_exchange_every_num_layers'] = 1000\n",
        "params['global_exchange_weighting_fun'] = 'softmax'\n",
        "params['global_exchange_num_heads'] = 4\n",
        "params['global_exchange_dropout_rate'] = 0.2\n",
        "params['layer_input_dropout_rate'] = 0.1\n",
        "\n",
        "# Implements a deep Graph Neural Network\n",
        "gnn_layer = GNN(params)\n",
        "gnn_out = gnn_layer(gnn_input)\n",
        "\n",
        "\n",
        "\n",
        "# Computes the mean along segments of a tensor\n",
        "# https://www.tensorflow.org/api_docs/python/tf/math/segment_mean\n",
        "avg = segment_mean(\n",
        "    data = gnn_out,\n",
        "    segment_ids = node2graph\n",
        ")\n",
        "\n",
        "# Define the out put layer of the model\n",
        "pred = Dense(1, activation='sigmoid')(avg)\n",
        "\n",
        "\n",
        "# Creating the model\n",
        "model = Model(\n",
        "    inputs = {\n",
        "        'data': data,\n",
        "        'edges': edge,\n",
        "        'node2grah': node2graph,\n",
        "    },\n",
        "    outputs = pred\n",
        ")\n",
        "model.summary()"
      ],
      "metadata": {
        "colab": {
          "base_uri": "https://localhost:8080/"
        },
        "id": "-Un9wxfp4kRh",
        "outputId": "0b8c8f11-5f9c-4fee-c1aa-37ca5437b2a0"
      },
      "execution_count": 44,
      "outputs": [
        {
          "output_type": "stream",
          "name": "stdout",
          "text": [
            "Model: \"model_3\"\n",
            "__________________________________________________________________________________________________\n",
            " Layer (type)                   Output Shape         Param #     Connected to                     \n",
            "==================================================================================================\n",
            " input_15 (InputLayer)          [(None,)]            0           []                               \n",
            "                                                                                                  \n",
            " input_13 (InputLayer)          [(None,)]            0           []                               \n",
            "                                                                                                  \n",
            " tf.math.reduce_max_3 (TFOpLamb  ()                  0           ['input_15[0][0]']               \n",
            " da)                                                                                              \n",
            "                                                                                                  \n",
            " embedding_3 (Embedding)        (None, 20)           10000       ['input_13[0][0]']               \n",
            "                                                                                                  \n",
            " input_14 (InputLayer)          [(None, 2)]          0           []                               \n",
            "                                                                                                  \n",
            " tf.__operators__.add_3 (TFOpLa  ()                  0           ['tf.math.reduce_max_3[0][0]']   \n",
            " mbda)                                                                                            \n",
            "                                                                                                  \n",
            " gnn_3 (GNN)                    (None, 64)           59136       ['embedding_3[0][0]',            \n",
            "                                                                  'input_14[0][0]',               \n",
            "                                                                  'input_15[0][0]',               \n",
            "                                                                  'tf.__operators__.add_3[0][0]'] \n",
            "                                                                                                  \n",
            " tf.math.segment_mean_3 (TFOpLa  (None, 64)          0           ['gnn_3[0][0]',                  \n",
            " mbda)                                                            'input_15[0][0]']               \n",
            "                                                                                                  \n",
            " dense_3 (Dense)                (None, 1)            65          ['tf.math.segment_mean_3[0][0]'] \n",
            "                                                                                                  \n",
            "==================================================================================================\n",
            "Total params: 69,201\n",
            "Trainable params: 69,201\n",
            "Non-trainable params: 0\n",
            "__________________________________________________________________________________________________\n"
          ]
        }
      ]
    },
    {
      "cell_type": "code",
      "source": [
        "# compiling model\n",
        "model.compile(\n",
        "    loss='BinaryCrossentropy',\n",
        "    metrics=['AUC']\n",
        ")"
      ],
      "metadata": {
        "id": "cof1eqAH4u-4"
      },
      "execution_count": 45,
      "outputs": []
    },
    {
      "cell_type": "markdown",
      "source": [
        "# Model Fitting"
      ],
      "metadata": {
        "id": "eGkpV5hT4yMo"
      }
    },
    {
      "cell_type": "code",
      "source": [
        "batch_size = 16\n",
        "\n",
        "# calculate steps_per_epoch for training and validation data\n",
        "num_batchs = math.ceil(len(training_set) / batch_size)\n",
        "num_batchs_validation = math.ceil(len(validation_set) / batch_size)\n",
        "\n",
        "model.fit(\n",
        "    gen_batch(\n",
        "        training_set, batch_size=batch_size, repeat=True\n",
        "    ),\n",
        "    steps_per_epoch = num_batchs,\n",
        "    epochs = 10,\n",
        "    validation_data = gen_batch(\n",
        "        validation_set, batch_size=16, repeat=True\n",
        "    ),\n",
        "    validation_steps = num_batchs_validation,\n",
        ")"
      ],
      "metadata": {
        "colab": {
          "base_uri": "https://localhost:8080/"
        },
        "id": "tmAgXRov44GH",
        "outputId": "74f5c113-16d3-4f75-de33-9c9ce581471a"
      },
      "execution_count": 46,
      "outputs": [
        {
          "output_type": "stream",
          "name": "stdout",
          "text": [
            "Epoch 1/10\n",
            "2381/2381 [==============================] - 95s 38ms/step - loss: 0.5961 - auc: 0.7501 - val_loss: 0.5430 - val_auc: 0.8067\n",
            "Epoch 2/10\n",
            "2381/2381 [==============================] - 95s 40ms/step - loss: 0.5371 - auc: 0.8140 - val_loss: 0.5144 - val_auc: 0.8330\n",
            "Epoch 3/10\n",
            "2381/2381 [==============================] - 92s 39ms/step - loss: 0.5138 - auc: 0.8336 - val_loss: 0.4928 - val_auc: 0.8485\n",
            "Epoch 4/10\n",
            "2381/2381 [==============================] - 93s 39ms/step - loss: 0.4906 - auc: 0.8505 - val_loss: 0.5187 - val_auc: 0.8509\n",
            "Epoch 5/10\n",
            "2381/2381 [==============================] - 95s 40ms/step - loss: 0.4720 - auc: 0.8636 - val_loss: 0.4485 - val_auc: 0.8765\n",
            "Epoch 6/10\n",
            "2381/2381 [==============================] - 105s 44ms/step - loss: 0.4573 - auc: 0.8725 - val_loss: 0.4418 - val_auc: 0.8827\n",
            "Epoch 7/10\n",
            "2381/2381 [==============================] - 90s 38ms/step - loss: 0.4410 - auc: 0.8822 - val_loss: 0.4221 - val_auc: 0.8924\n",
            "Epoch 8/10\n",
            "2381/2381 [==============================] - 96s 40ms/step - loss: 0.4280 - auc: 0.8901 - val_loss: 0.4423 - val_auc: 0.8821\n",
            "Epoch 9/10\n",
            "2381/2381 [==============================] - 95s 40ms/step - loss: 0.4197 - auc: 0.8952 - val_loss: 0.4067 - val_auc: 0.9034\n",
            "Epoch 10/10\n",
            "2381/2381 [==============================] - 96s 40ms/step - loss: 0.4099 - auc: 0.9005 - val_loss: 0.3905 - val_auc: 0.9096\n"
          ]
        },
        {
          "output_type": "execute_result",
          "data": {
            "text/plain": [
              "<keras.callbacks.History at 0x7f3f08a53880>"
            ]
          },
          "metadata": {},
          "execution_count": 46
        }
      ]
    },
    {
      "cell_type": "markdown",
      "source": [
        "## saving predictions results"
      ],
      "metadata": {
        "id": "guaX2Xl44_9S"
      }
    },
    {
      "cell_type": "code",
      "source": [
        "y_pred = model.predict(\n",
        "    gen_batch(test_data, batch_size=16, shuffle=False)\n",
        ")\n",
        "y_pred = np.reshape(y_pred, -1)"
      ],
      "metadata": {
        "colab": {
          "base_uri": "https://localhost:8080/"
        },
        "id": "ogYzSmTl5C8u",
        "outputId": "b30aa7b3-5718-4e15-87aa-90955278f27d"
      },
      "execution_count": 47,
      "outputs": [
        {
          "output_type": "stream",
          "name": "stdout",
          "text": [
            "771/771 [==============================] - 8s 10ms/step\n"
          ]
        }
      ]
    },
    {
      "cell_type": "code",
      "source": [
        "saveResult(y_pred, 'trial_10.csv')"
      ],
      "metadata": {
        "id": "NaZ0ZY_t5Cvq"
      },
      "execution_count": 48,
      "outputs": []
    },
    {
      "cell_type": "markdown",
      "source": [
        "# Questions"
      ],
      "metadata": {
        "id": "N4LCu_V6yr-o"
      }
    },
    {
      "cell_type": "markdown",
      "source": [
        "# 1. Based on the provided template, describe the format of the input file (sdf file)?\n",
        "\n",
        "Structure Data File (SDF) is the input file type. It gives details on a molecule's chemical composition. SDF files keep track of each atom's position inside a chemical molecule as well as its linkages. Expression serves as a boundary between several substances.\n",
        "\n",
        "Each sample begins with a header that provides information about the compound's name or title. Other parts contain details such as the number of Atoms, the version number, connections, etc. The elements of the compound are described by the atom block. The bonding structure of the chemical is described by the bond/edge block. These two blocks are employed to gather data about the compound and store it as edges and nodes. The provided atom from the chemical compound is at each node."
      ],
      "metadata": {
        "id": "JbsXGjZuyv90"
      }
    },
    {
      "cell_type": "markdown",
      "source": [
        "# 2.  What are the input tensors to the neural network model (their meaning, not just symbol)? What is each of their dims and their meaning (e.g. batch_size)?\n",
        "\n",
        "Data is made up of several characters called nodes like N C S O. Each batch has the shape [batch_size*max_len_nodes].\n",
        "\n",
        "It is made up of connections between nodes, such as 1-5, which refers to the edge between node 1 and node 5. Additionally, the edge's shape is [sum_of_all_edges,2].\n",
        "\n",
        "Each sample ends with the label value [1, -1]."
      ],
      "metadata": {
        "id": "khDHkk5czKZF"
      }
    },
    {
      "cell_type": "markdown",
      "source": [
        "# 3. For each dim of gnn_out, what does it symbolize? For each dim of avg, what does it symbolize?\n",
        "* gnn_out :\n",
        "The shape of the gnn_out is [batch size node dimension, hidden layers], where batch size node dimension is the dimension of the tokenized vector for the full batch and input data node vector is the dimension. It represents the model's aggregation output for each hidden layer.\n",
        "\n",
        "* avg :\n",
        "Using the segmented ids, the segmented mean of the gnn_out is calculated. For each sample in the batch size, gnn out outputs [tokenized vector dimension, hidden layers]. The final output of the typical tensor has the following form: [batch size, hidden layer]. It is a technique for collecting data for each sample and displaying it as mean data."
      ],
      "metadata": {
        "id": "_vDSnd0xzma9"
      }
    },
    {
      "cell_type": "markdown",
      "source": [
        "# 4. What is the difference between segment_mean and tf.reduce_mean? For each dim of pred, what does it symbolize?\n",
        "\n",
        "* Segment_mean: calculates the average of data with identical segmentation identifiers.\n",
        "\n",
        "* reduce_mean: given parameters, computes the mean of a tensor's elements across all dimensions.\n",
        "\n",
        "* pred: The final result (pred) indicates whether a chemical component is likely to be active for cancer cells or not. Pred is [batch_size,1] shaped. As a result, the final output for each sample is a number that represents the probability that each chemical molecule will be active.\n",
        "\n"
      ],
      "metadata": {
        "id": "5TLl8d8fz_JC"
      }
    },
    {
      "cell_type": "markdown",
      "source": [
        "# 5. What is the motivation/theory/idea to use multiple gcn layers comparing to just one? How many layers were used in the template?\n",
        "The template implements the GCN network's default value for layer count, which is 4 as specified in the documentation. The Relational Graph Convolutional Networks (RGCN) is the standard message passing technique. A better model is produced by using numerous GCN, which aid in accurately capturing all of the graph complexity."
      ],
      "metadata": {
        "id": "JnQR4Gip0pv3"
      }
    },
    {
      "cell_type": "code",
      "source": [],
      "metadata": {
        "id": "-GX-cs_syvPL"
      },
      "execution_count": null,
      "outputs": []
    }
  ]
}